{
 "cells": [
  {
   "cell_type": "markdown",
   "source": [
    "# 批量归一化\n",
    "1. 损失出现在最后，后面的层训练比较快\n",
    "2. 数据在最底部，导致底部的层训练较慢 & 底部层一变化所有都得跟着边 & 最后的那些层需要重新学习多次 & 导致收敛变慢\n",
    "3. 如何在学习底部层的时候避免变化顶部层\n",
    "\n",
    "\n",
    "#\n",
    "1. 固定小批量里面的均值和方差\n",
    "<img alt=\"image.png\" height=\"200\" src=\"/Users/loneker/Desktop/d2l/pic/iShot_2024-04-29_15.30.15.png\" width=\"1000\"/>\n",
    "\n",
    "2. 然后再做额外的调整（可学习的参数）（Xi+1 似乎是输出）\n",
    "<img alt=\"image.png\" height=\"200\" src=\"/Users/loneker/Desktop/d2l/pic/iShot_2024-04-29_15.33.21.png\" width=\"600\"/>\n",
    "\n",
    "# 批量归一化层\n",
    "1. 可学习的参数是gamma和beta\n",
    "2. 作用在 a. 全连接层和卷积层输出上，激活函数前     b. 全连接层和卷积层输入上\n",
    "3. 对于全连接层作用在特征维\n",
    "4. 对于卷积层作用在通道维（通道维相当于特征）\n",
    "\n",
    "# 总结\n",
    "1. 批量归一化固定小批量中的均值和方差，然后学习出适合的偏移和缩放\n",
    "2. 可以加速收敛速度，但一般不改变模型精度\n",
    "3. 不能和丢弃法结合使用"
   ],
   "metadata": {
    "collapsed": false
   },
   "id": "2d629af733afca4"
  },
  {
   "cell_type": "markdown",
   "source": [
    "从形式上来看，我们计算出 :eqref:`eq_batchnorm`中的$\\hat{\\boldsymbol{\\mu}}_\\mathcal{B}$和${\\hat{\\boldsymbol{\\sigma}}_\\mathcal{B}}$，如下所示：\n",
    "\n",
    "$$\\begin{aligned} \\hat{\\boldsymbol{\\mu}}_\\mathcal{B} &= \\frac{1}{|\\mathcal{B}|} \\sum_{\\mathbf{x} \\in \\mathcal{B}} \\mathbf{x},\\\\\n",
    "\\hat{\\boldsymbol{\\sigma}}_\\mathcal{B}^2 &= \\frac{1}{|\\mathcal{B}|} \\sum_{\\mathbf{x} \\in \\mathcal{B}} (\\mathbf{x} - \\hat{\\boldsymbol{\\mu}}_{\\mathcal{B}})^2 + \\epsilon.\\end{aligned}$$"
   ],
   "metadata": {
    "collapsed": false
   },
   "id": "511eace88eb7bed0"
  },
  {
   "cell_type": "markdown",
   "source": [
    "# Batch Norm从零开始实现"
   ],
   "metadata": {
    "collapsed": false
   },
   "id": "96ce6d51ce361746"
  },
  {
   "cell_type": "code",
   "execution_count": 2,
   "id": "initial_id",
   "metadata": {
    "collapsed": true,
    "ExecuteTime": {
     "end_time": "2024-04-29T16:39:21.545556Z",
     "start_time": "2024-04-29T16:39:21.512723Z"
    }
   },
   "outputs": [],
   "source": [
    "import torch\n",
    "from torch import nn\n",
    "from d2l import torch as d2l\n",
    "\n",
    "# moving_mean 和 moving_var 相当于全局的均值和方差, 做推理时使用，是整个数据集的均值和方差，而不是一个小批量的\n",
    "# momentum 是用来更新moving_mean 和 moving_var的，通常取0.9\n",
    "# eps通常有个默认值\n",
    "def batch_norm(X, gamma, beta, moving_mean, moving_var, eps, momentum) :\n",
    "    if not torch.is_grad_enabled():\n",
    "        X_hat = (X - moving_mean) / torch.sqrt(moving_var + eps)    # 推理是用全局的mean\n",
    "    else : \n",
    "        assert len(X.shape) in (2, 4)   # 要么是2D全连接层要么是4D卷积层\n",
    "        if len(X.shape) == 2 :\n",
    "            mean = X.mean(dim = 0)      # 对每一个特征求平均值\n",
    "            var = ((X - mean) ** 2).mean(dim = 0)\n",
    "        else :\n",
    "            mean = X.mean(dim = (0, 2, 3), keepdim = True)          # 卷积要对输出通道数进行批量归一化\n",
    "            var = ((X - mean) ** 2).mean(dim = (0, 2, 3), keepdim = True)\n",
    "        X_hat = (X - mean) / torch.sqrt(var + eps)                  # 训练是用当前的mean\n",
    "        moving_mean = momentum * moving_mean + (1.0 - momentum) * mean\n",
    "        moving_var = momentum * moving_var + (1.0 - momentum) * var\n",
    "    Y = gamma * X_hat + beta\n",
    "    return Y, moving_mean.data, moving_var.data"
   ]
  },
  {
   "cell_type": "code",
   "execution_count": 4,
   "outputs": [],
   "source": [
    "class BatchNorm(nn.Module):\n",
    "    # num_features：完全连接层的输出数量或卷积层的输出通道数。\n",
    "    # num_dims：2表示完全连接层，4表示卷积层\n",
    "    def __init__(self, num_features, num_dims):\n",
    "        super().__init__()\n",
    "        if num_dims == 2:\n",
    "            shape = (1, num_features)\n",
    "        else:\n",
    "            shape = (1, num_features, 1, 1)\n",
    "        # 参与求梯度和迭代的拉伸和偏移参数，分别初始化成1和0\n",
    "        self.gamma = nn.Parameter(torch.ones(shape))\n",
    "        self.beta = nn.Parameter(torch.zeros(shape))\n",
    "        # 非模型参数的变量初始化为0和1\n",
    "        self.moving_mean = torch.zeros(shape)\n",
    "        self.moving_var = torch.ones(shape)\n",
    "\n",
    "    def forward(self, X):\n",
    "        # 如果X不在内存上，将moving_mean和moving_var\n",
    "        # 复制到X所在显存上\n",
    "        if self.moving_mean.device != X.device:\n",
    "            self.moving_mean = self.moving_mean.to(X.device)\n",
    "            self.moving_var = self.moving_var.to(X.device)\n",
    "        # 保存更新过的moving_mean和moving_var\n",
    "        Y, self.moving_mean, self.moving_var = batch_norm(\n",
    "            X, self.gamma, self.beta, self.moving_mean,\n",
    "            self.moving_var, eps=1e-5, momentum=0.9)\n",
    "        return Y"
   ],
   "metadata": {
    "collapsed": false,
    "ExecuteTime": {
     "end_time": "2024-04-29T16:45:54.514164Z",
     "start_time": "2024-04-29T16:45:54.487989Z"
    }
   },
   "id": "cdef32335e519ae1"
  },
  {
   "cell_type": "code",
   "execution_count": 6,
   "outputs": [],
   "source": [
    "net = nn.Sequential(\n",
    "    nn.Conv2d(1, 6, kernel_size=5), BatchNorm(6, num_dims=4), nn.Sigmoid(),\n",
    "    nn.AvgPool2d(kernel_size=2, stride=2),\n",
    "    nn.Conv2d(6, 16, kernel_size=5), BatchNorm(16, num_dims=4), nn.Sigmoid(),\n",
    "    nn.AvgPool2d(kernel_size=2, stride=2), nn.Flatten(),\n",
    "    nn.Linear(16*4*4, 120), BatchNorm(120, num_dims=2), nn.Sigmoid(),\n",
    "    nn.Linear(120, 84), BatchNorm(84, num_dims=2), nn.Sigmoid(),\n",
    "    nn.Linear(84, 10))"
   ],
   "metadata": {
    "collapsed": false,
    "ExecuteTime": {
     "end_time": "2024-04-29T16:46:02.745985Z",
     "start_time": "2024-04-29T16:46:02.728076Z"
    }
   },
   "id": "ecef69eb06ba249c"
  },
  {
   "cell_type": "code",
   "execution_count": null,
   "outputs": [],
   "source": [
    "lr, num_epochs, batch_size = 1.0, 10, 256\n",
    "train_iter, test_iter = d2l.load_data_fashion_mnist(batch_size)\n",
    "d2l.train_ch6(net, train_iter, test_iter, num_epochs, lr, d2l.try_gpu())"
   ],
   "metadata": {
    "collapsed": false
   },
   "id": "e7005c5ef682ad68"
  },
  {
   "cell_type": "code",
   "execution_count": null,
   "outputs": [],
   "source": [
    "net[1].gamma.reshape((-1,)), net[1].beta.reshape((-1,))"
   ],
   "metadata": {
    "collapsed": false
   },
   "id": "19a3c21dc2fca2ce"
  },
  {
   "cell_type": "markdown",
   "source": [
    "# 简洁实现"
   ],
   "metadata": {
    "collapsed": false
   },
   "id": "bf5240eb95f31ad2"
  },
  {
   "cell_type": "code",
   "execution_count": null,
   "outputs": [],
   "source": [
    "net = nn.Sequential(\n",
    "    nn.Conv2d(1, 6, kernel_size=5), nn.BatchNorm2d(6), nn.Sigmoid(),\n",
    "    nn.AvgPool2d(kernel_size=2, stride=2),\n",
    "    nn.Conv2d(6, 16, kernel_size=5), nn.BatchNorm2d(16), nn.Sigmoid(),\n",
    "    nn.AvgPool2d(kernel_size=2, stride=2), nn.Flatten(),\n",
    "    nn.Linear(256, 120), nn.BatchNorm1d(120), nn.Sigmoid(),\n",
    "    nn.Linear(120, 84), nn.BatchNorm1d(84), nn.Sigmoid(),\n",
    "    nn.Linear(84, 10))\n",
    "\n",
    "d2l.train_ch6(net, train_iter, test_iter, num_epochs, lr, d2l.try_gpu())"
   ],
   "metadata": {
    "collapsed": false
   },
   "id": "62b588b8dee9b238"
  }
 ],
 "metadata": {
  "kernelspec": {
   "display_name": "Python 3",
   "language": "python",
   "name": "python3"
  },
  "language_info": {
   "codemirror_mode": {
    "name": "ipython",
    "version": 2
   },
   "file_extension": ".py",
   "mimetype": "text/x-python",
   "name": "python",
   "nbconvert_exporter": "python",
   "pygments_lexer": "ipython2",
   "version": "2.7.6"
  }
 },
 "nbformat": 4,
 "nbformat_minor": 5
}
