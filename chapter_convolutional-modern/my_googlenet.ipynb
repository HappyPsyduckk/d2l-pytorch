{
 "cells": [
  {
   "cell_type": "markdown",
   "source": [
    "# Inception块\n",
    "<img alt=\"image.png\" height=\"600\" src=\"/Users/loneker/Desktop/d2l/pic/iShot_2024-04-29_14.11.11.png\" width=\"700\"/>\n",
    "\n",
    "> 3x3下面的1x1的卷积，输出通道数是96，目的是降低后面3x3的通道数，降低模型复杂度\n",
    "> 白色的卷积层主要是为了改变通道数\n",
    "> 蓝色的卷积块主要是来提取特征的\n",
    "> 可能觉得3x3的卷积层能抽取到更多的信息，所以才让3x3的通道数占据了总通道数的一半\n",
    "\n",
    "<img alt=\"image.png\" height=\"600\" src=\"/Users/loneker/Desktop/d2l/pic/iShot_2024-04-29_14.17.37.png\" width=\"700\"/>"
   ],
   "metadata": {
    "collapsed": false
   },
   "id": "41ffc746daa19075"
  },
  {
   "cell_type": "markdown",
   "source": [
    "# googLeNet\n",
    "> 四个路径从不同层面抽取信息，然后在输出通道维合并\n",
    "> 输入和输出等高宽，但通道数会变多\n",
    "\n",
    "<img alt=\"image.png\" height=\"800\" src=\"/Users/loneker/Desktop/d2l/pic/iShot_2024-04-29_14.20.06.png\" width=\"700\"/>"
   ],
   "metadata": {
    "collapsed": false
   },
   "id": "da4387f7c1e3d438"
  },
  {
   "cell_type": "markdown",
   "source": [
    "# googLeNet Block 1 & 2\n",
    "<img alt=\"image.png\" height=\"800\" src=\"/Users/loneker/Desktop/d2l/pic/iShot_2024-04-29_14.24.38.png\" width=\"900\"/>\n",
    "\n",
    "> 1. 将通道数变多，将高宽减下去\n",
    "> 2. 比AlexNet的更宽更高，使得能支持更深的网络"
   ],
   "metadata": {
    "collapsed": false
   },
   "id": "5169bfec9e8a14da"
  },
  {
   "cell_type": "markdown",
   "source": [
    "# googLeNet Block 3\n",
    "<img alt=\"image.png\" height=\"800\" src=\"/Users/loneker/Desktop/d2l/pic/iShot_2024-04-29_14.29.44.png\" width=\"1000\"/>\n",
    "\n",
    "> 1. 使用了两个Inception Block，经过两次Inception块之后再经一次MaxPooling将高宽减半\n",
    "> 2. 主要通道数分配给3x3的卷积层，但不知道该层通道数与输入输出通道数之间的关系"
   ],
   "metadata": {
    "collapsed": false
   },
   "id": "66f14bba0b2889e5"
  },
  {
   "cell_type": "markdown",
   "source": [
    "# googLeNet Block 4 & 5\n",
    "<img alt=\"image.png\" height=\"800\" src=\"/Users/loneker/Desktop/d2l/pic/iShot_2024-04-29_14.39.01.png\" width=\"1000\"/>\n",
    "\n",
    "> 一张图片进入Net，输出是一个1024维的向量"
   ],
   "metadata": {
    "collapsed": false
   },
   "id": "75e9d8cd6296e231"
  },
  {
   "cell_type": "markdown",
   "source": [
    "# 变种\n",
    "<img alt=\"image.png\" height=\"700\" src=\"/Users/loneker/Desktop/d2l/pic/iShot_2024-04-29_14.42.32.png\" width=\"1000\"/>"
   ],
   "metadata": {
    "collapsed": false
   },
   "id": "82a3c6670af7f678"
  },
  {
   "cell_type": "markdown",
   "source": [
    "# 总结\n",
    "1. Inception块用4条有不同超参数的卷积层和池化层的路来抽取不同的信息，主要优点是模型参数小，计算复杂度低\n",
    "2. GoogleNet使用了9个Inception块，是第一个达到上百层的网络"
   ],
   "metadata": {
    "collapsed": false
   },
   "id": "215e4acabcf9e06e"
  },
  {
   "cell_type": "code",
   "execution_count": 1,
   "id": "initial_id",
   "metadata": {
    "collapsed": true,
    "ExecuteTime": {
     "end_time": "2024-04-29T06:51:15.811370Z",
     "start_time": "2024-04-29T06:51:13.896298Z"
    }
   },
   "outputs": [],
   "source": [
    "import torch\n",
    "from torch import nn\n",
    "from torch.nn import functional as F\n",
    "from d2l import torch as d2l\n",
    "\n",
    "class Inception(nn.Module):\n",
    "    # c1--c4是每条路径的输出通道数\n",
    "    def __init__(self, in_channels, c1, c2, c3, c4, **kwargs):\n",
    "        super(Inception, self).__init__(**kwargs)\n",
    "        # 线路1，单1x1卷积层\n",
    "        self.p1_1 = nn.Conv2d(in_channels, c1, kernel_size=1)\n",
    "        # 线路2，1x1卷积层后接3x3卷积层\n",
    "        self.p2_1 = nn.Conv2d(in_channels, c2[0], kernel_size=1)\n",
    "        self.p2_2 = nn.Conv2d(c2[0], c2[1], kernel_size=3, padding=1)\n",
    "        # 线路3，1x1卷积层后接5x5卷积层\n",
    "        self.p3_1 = nn.Conv2d(in_channels, c3[0], kernel_size=1)\n",
    "        self.p3_2 = nn.Conv2d(c3[0], c3[1], kernel_size=5, padding=2)\n",
    "        # 线路4，3x3最大汇聚层后接1x1卷积层\n",
    "        self.p4_1 = nn.MaxPool2d(kernel_size=3, stride=1, padding=1)\n",
    "        self.p4_2 = nn.Conv2d(in_channels, c4, kernel_size=1)\n",
    "\n",
    "    def forward(self, x):\n",
    "        p1 = F.relu(self.p1_1(x))\n",
    "        p2 = F.relu(self.p2_2(F.relu(self.p2_1(x))))\n",
    "        p3 = F.relu(self.p3_2(F.relu(self.p3_1(x))))\n",
    "        p4 = F.relu(self.p4_2(self.p4_1(x)))\n",
    "        # 在通道维度上连结输出\n",
    "        return torch.cat((p1, p2, p3, p4), dim=1)"
   ]
  },
  {
   "cell_type": "markdown",
   "source": [
    "# 实现每一个stage"
   ],
   "metadata": {
    "collapsed": false
   },
   "id": "c79a91cb30d7061"
  },
  {
   "cell_type": "code",
   "execution_count": 2,
   "outputs": [],
   "source": [
    "b1 = nn.Sequential(nn.Conv2d(1, 64, kernel_size=7, stride=2, padding=3),\n",
    "                   nn.ReLU(),\n",
    "                   nn.MaxPool2d(kernel_size=3, stride=2, padding=1))\n",
    "b2 = nn.Sequential(nn.Conv2d(64, 64, kernel_size=1),\n",
    "                   nn.ReLU(),\n",
    "                   nn.Conv2d(64, 192, kernel_size=3, padding=1),\n",
    "                   nn.ReLU(),\n",
    "                   nn.MaxPool2d(kernel_size=3, stride=2, padding=1))\n",
    "b3 = nn.Sequential(Inception(192, 64, (96, 128), (16, 32), 32),\n",
    "                   Inception(256, 128, (128, 192), (32, 96), 64),\n",
    "                   nn.MaxPool2d(kernel_size=3, stride=2, padding=1))\n",
    "b4 = nn.Sequential(Inception(480, 192, (96, 208), (16, 48), 64),\n",
    "                   Inception(512, 160, (112, 224), (24, 64), 64),\n",
    "                   Inception(512, 128, (128, 256), (24, 64), 64),\n",
    "                   Inception(512, 112, (144, 288), (32, 64), 64),\n",
    "                   Inception(528, 256, (160, 320), (32, 128), 128),\n",
    "                   nn.MaxPool2d(kernel_size=3, stride=2, padding=1))\n",
    "b5 = nn.Sequential(Inception(832, 256, (160, 320), (32, 128), 128),\n",
    "                   Inception(832, 384, (192, 384), (48, 128), 128),\n",
    "                   nn.AdaptiveAvgPool2d((1,1)),\n",
    "                   nn.Flatten())\n",
    "\n",
    "net = nn.Sequential(b1, b2, b3, b4, b5, nn.Linear(1024, 10))"
   ],
   "metadata": {
    "collapsed": false,
    "ExecuteTime": {
     "end_time": "2024-04-29T06:53:11.411532Z",
     "start_time": "2024-04-29T06:53:11.381306Z"
    }
   },
   "id": "11bd7fe8811cac8d"
  },
  {
   "cell_type": "markdown",
   "source": [
    "# 为了训练更快，我们将输入的高和宽从224降低到96"
   ],
   "metadata": {
    "collapsed": false
   },
   "id": "5d2b30f6add20e30"
  },
  {
   "cell_type": "code",
   "execution_count": 3,
   "outputs": [
    {
     "name": "stdout",
     "output_type": "stream",
     "text": [
      "Sequential output shape:\t torch.Size([1, 64, 24, 24])\n",
      "Sequential output shape:\t torch.Size([1, 192, 12, 12])\n",
      "Sequential output shape:\t torch.Size([1, 480, 6, 6])\n",
      "Sequential output shape:\t torch.Size([1, 832, 3, 3])\n",
      "Sequential output shape:\t torch.Size([1, 1024])\n",
      "Linear output shape:\t torch.Size([1, 10])\n"
     ]
    }
   ],
   "source": [
    "X = torch.rand(size=(1, 1, 96, 96))\n",
    "for layer in net:\n",
    "    X = layer(X)\n",
    "    print(layer.__class__.__name__,'output shape:\\t', X.shape)"
   ],
   "metadata": {
    "collapsed": false,
    "ExecuteTime": {
     "end_time": "2024-04-29T06:55:28.933050Z",
     "start_time": "2024-04-29T06:55:28.895107Z"
    }
   },
   "id": "5ed7aded540e6942"
  },
  {
   "cell_type": "code",
   "execution_count": null,
   "outputs": [],
   "source": [
    "lr, num_epochs, batch_size = 0.1, 10, 128\n",
    "train_iter, test_iter = d2l.load_data_fashion_mnist(batch_size, resize=96)\n",
    "d2l.train_ch6(net, train_iter, test_iter, num_epochs, lr, d2l.try_gpu())"
   ],
   "metadata": {
    "collapsed": false
   },
   "id": "21bc2bd4b44a595d"
  }
 ],
 "metadata": {
  "kernelspec": {
   "display_name": "Python 3",
   "language": "python",
   "name": "python3"
  },
  "language_info": {
   "codemirror_mode": {
    "name": "ipython",
    "version": 2
   },
   "file_extension": ".py",
   "mimetype": "text/x-python",
   "name": "python",
   "nbconvert_exporter": "python",
   "pygments_lexer": "ipython2",
   "version": "2.7.6"
  }
 },
 "nbformat": 4,
 "nbformat_minor": 5
}
