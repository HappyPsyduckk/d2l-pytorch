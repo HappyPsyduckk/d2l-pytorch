{
 "cells": [
  {
   "cell_type": "markdown",
   "source": [
    "# NiN块\n",
    "起因：通常的网络中，卷积层之后的第一层全连接层参数会非常多\n",
    "\n",
    "一个卷积层后面跟两个全连接层(步幅为1的1x1的卷积相当于全连接层)\n",
    "> 1. 步幅1，无填充，输出形状跟卷积层输出一样\n",
    "> 2. 起到全连接层作用\n",
    "\n",
    "# NiN架构\n",
    "无全连接层\n",
    "交替使用NiN和步幅为2的最大池化层，来逐步减小高宽和增大通道数\n",
    "最后使用全局平均池化层得到输出（对每一个通道，将其最大值拿出来），其输入通道数是类别数\n",
    "\n",
    "# 总结\n",
    "NiN块使用卷积层加两个1x1卷积层，后者对每个像素增加了非线性性\n",
    "NiN使用全局平均池化层来替代VGG和AlexNet中的全连接层，不容易过拟合，更少的参数个数"
   ],
   "metadata": {
    "collapsed": false
   },
   "id": "2281bc2f99d0455a"
  },
  {
   "cell_type": "markdown",
   "source": [
    "#\n",
    "<img alt=\"image.png\" height=\"600\" src=\"/Users/loneker/Desktop/d2l/pic/iShot_2024-04-28_17.20.06.png\" width=\"700\"/>"
   ],
   "metadata": {
    "collapsed": false
   },
   "id": "b53aa537ed20408f"
  },
  {
   "cell_type": "code",
   "execution_count": 1,
   "id": "initial_id",
   "metadata": {
    "collapsed": true,
    "ExecuteTime": {
     "end_time": "2024-04-28T09:20:17.425781Z",
     "start_time": "2024-04-28T09:20:16.258312Z"
    }
   },
   "outputs": [],
   "source": [
    "import torch\n",
    "from torch import nn\n",
    "from d2l import torch as d2l\n",
    "\n",
    "\n",
    "def nin_block(in_channels, out_channels, kernel_size, strides, padding):\n",
    "    return nn.Sequential(\n",
    "        nn.Conv2d(in_channels, out_channels, kernel_size, strides, padding),\n",
    "        nn.ReLU(),\n",
    "        nn.Conv2d(out_channels, out_channels, kernel_size=1), nn.ReLU(),\n",
    "        nn.Conv2d(out_channels, out_channels, kernel_size=1), nn.ReLU())"
   ]
  },
  {
   "cell_type": "code",
   "execution_count": 4,
   "outputs": [],
   "source": [
    "net = nn.Sequential(\n",
    "    nin_block(1, 96, kernel_size=11, strides=4, padding=0),\n",
    "    nn.MaxPool2d(3, stride=2),      # 高宽减半\n",
    "    nin_block(96, 256, kernel_size=5, strides=1, padding=2),\n",
    "    nn.MaxPool2d(3, stride=2),\n",
    "    nin_block(256, 384, kernel_size=3, strides=1, padding=1),\n",
    "    nn.MaxPool2d(3, stride=2),\n",
    "    nn.Dropout(0.5),\n",
    "    # 标签类别数是10\n",
    "    nin_block(384, 10, kernel_size=3, strides=1, padding=1),\n",
    "    nn.AdaptiveAvgPool2d((1, 1)), nn.Flatten()) # (1, 1)表示高宽都会变成1。后面将四维的输出转成二维的输出，其形状为(批量大小,10)"
   ],
   "metadata": {
    "collapsed": false,
    "ExecuteTime": {
     "end_time": "2024-04-28T09:30:53.385377Z",
     "start_time": "2024-04-28T09:30:53.362955Z"
    }
   },
   "id": "31da59e9118eca87"
  },
  {
   "cell_type": "code",
   "execution_count": 5,
   "outputs": [
    {
     "name": "stdout",
     "output_type": "stream",
     "text": [
      "Sequential output shape:\t torch.Size([1, 96, 54, 54])\n",
      "MaxPool2d output shape:\t torch.Size([1, 96, 26, 26])\n",
      "Sequential output shape:\t torch.Size([1, 256, 26, 26])\n",
      "MaxPool2d output shape:\t torch.Size([1, 256, 12, 12])\n",
      "Sequential output shape:\t torch.Size([1, 384, 12, 12])\n",
      "MaxPool2d output shape:\t torch.Size([1, 384, 5, 5])\n",
      "Dropout output shape:\t torch.Size([1, 384, 5, 5])\n",
      "Sequential output shape:\t torch.Size([1, 10, 5, 5])\n",
      "AdaptiveAvgPool2d output shape:\t torch.Size([1, 10, 1, 1])\n",
      "Flatten output shape:\t torch.Size([1, 10])\n"
     ]
    }
   ],
   "source": [
    "X = torch.rand(size=(1, 1, 224, 224))\n",
    "for layer in net:\n",
    "    X = layer(X)\n",
    "    print(layer.__class__.__name__,'output shape:\\t', X.shape)"
   ],
   "metadata": {
    "collapsed": false,
    "ExecuteTime": {
     "end_time": "2024-04-28T09:31:54.014911Z",
     "start_time": "2024-04-28T09:31:53.996240Z"
    }
   },
   "id": "659c1f7462af4729"
  },
  {
   "cell_type": "code",
   "execution_count": null,
   "outputs": [],
   "source": [
    "lr, num_epochs, batch_size = 0.1, 10, 128\n",
    "train_iter, test_iter = d2l.load_data_fashion_mnist(batch_size, resize=224)\n",
    "d2l.train_ch6(net, train_iter, test_iter, num_epochs, lr, d2l.try_gpu())"
   ],
   "metadata": {
    "collapsed": false
   },
   "id": "c0a65475775f2168"
  }
 ],
 "metadata": {
  "kernelspec": {
   "display_name": "Python 3",
   "language": "python",
   "name": "python3"
  },
  "language_info": {
   "codemirror_mode": {
    "name": "ipython",
    "version": 2
   },
   "file_extension": ".py",
   "mimetype": "text/x-python",
   "name": "python",
   "nbconvert_exporter": "python",
   "pygments_lexer": "ipython2",
   "version": "2.7.6"
  }
 },
 "nbformat": 4,
 "nbformat_minor": 5
}
