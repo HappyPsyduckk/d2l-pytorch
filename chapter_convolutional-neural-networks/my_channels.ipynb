{
 "cells": [
  {
   "cell_type": "markdown",
   "source": [
    "# 多输入通道\n",
    "> 每个通道都有一个卷积核，结果是所有通道卷积结果的和，输出是一个单通道\n",
    "<img alt=\"image.png\" height=\"500\" src=\"/Users/loneker/Desktop/d2l/pic/iShot_2024-04-24_16.18.50.png\" width=\"550\"/>\n",
    "\n",
    "# 多输出通道\n",
    "> 每个输出通道可以识别特定模式\n",
    "> 输入通道核识别并组合输入中的模式\n",
    "<img alt=\"image.png\" height=\"450\" src=\"/Users/loneker/Desktop/d2l/pic/iShot_2024-04-24_16.19.30.png\" width=\"750\"/>"
   ],
   "metadata": {
    "collapsed": false
   },
   "id": "3e102ea92bd68da3"
  },
  {
   "cell_type": "markdown",
   "source": [
    "# 1 * 1 卷积层\n",
    "1 * 1的卷积层是一个受欢迎的选择，它不识别空间模式，只是融合通道\n",
    "<img alt=\"image.png\" height=\"450\" src=\"/Users/loneker/Desktop/d2l/pic/iShot_2024-04-24_16.28.33.png\" width=\"750\"/>"
   ],
   "metadata": {
    "collapsed": false
   },
   "id": "eb49aacec170abd7"
  },
  {
   "cell_type": "markdown",
   "source": [
    "# 多输入多输出通道"
   ],
   "metadata": {
    "collapsed": false
   },
   "id": "4ce61f73e7610cbe"
  },
  {
   "cell_type": "markdown",
   "source": [
    "# 多输入通道互相关运算"
   ],
   "metadata": {
    "collapsed": false
   },
   "id": "c90cccc667760c5a"
  },
  {
   "cell_type": "code",
   "execution_count": 1,
   "id": "initial_id",
   "metadata": {
    "collapsed": true,
    "ExecuteTime": {
     "end_time": "2024-04-24T08:36:36.936976Z",
     "start_time": "2024-04-24T08:36:35.858575Z"
    }
   },
   "outputs": [],
   "source": [
    "import torch\n",
    "from d2l import torch as d2l\n",
    "\n",
    "def corr2d_multi_in(X, K) : \n",
    "    return sum(d2l.corr2d(x, k) for x, k in zip(X, K))      # 先遍历“X”和“K”的第0个维度（通道维度），再把它们加在一起"
   ]
  },
  {
   "cell_type": "code",
   "execution_count": 25,
   "outputs": [
    {
     "data": {
      "text/plain": "(torch.Size([2, 2, 2]),\n tensor([[ 56.,  72.],\n         [104., 120.]]))"
     },
     "execution_count": 25,
     "metadata": {},
     "output_type": "execute_result"
    }
   ],
   "source": [
    "# 验证\n",
    "X = torch.tensor([[[0.0, 1.0, 2.0], [3.0, 4.0, 5.0], [6.0, 7.0, 8.0]],\n",
    "               [[1.0, 2.0, 3.0], [4.0, 5.0, 6.0], [7.0, 8.0, 9.0]]])\n",
    "K = torch.tensor([[[0.0, 1.0], [2.0, 3.0]], [[1.0, 2.0], [3.0, 4.0]]])\n",
    "\n",
    "K.shape, corr2d_multi_in(X, K)"
   ],
   "metadata": {
    "collapsed": false,
    "ExecuteTime": {
     "end_time": "2024-04-24T09:01:44.155417Z",
     "start_time": "2024-04-24T09:01:44.143961Z"
    }
   },
   "id": "f6d956ffee4cad3c"
  },
  {
   "cell_type": "markdown",
   "source": [
    "# 计算多个通道的输出的互相关函数"
   ],
   "metadata": {
    "collapsed": false
   },
   "id": "3457a2d12f73c242"
  },
  {
   "cell_type": "code",
   "execution_count": 26,
   "outputs": [
    {
     "data": {
      "text/plain": "(torch.Size([3, 2, 2, 2]),\n tensor([[[ 56.,  72.],\n          [104., 120.]],\n \n         [[ 76., 100.],\n          [148., 172.]],\n \n         [[ 96., 128.],\n          [192., 224.]]]))"
     },
     "execution_count": 26,
     "metadata": {},
     "output_type": "execute_result"
    }
   ],
   "source": [
    "def corr2d_multi_in_out(X, K) : \n",
    "    return torch.stack([corr2d_multi_in(X, k) for k in K], 0)   # k是一个3D的tensor，并在维度0上stack起来\n",
    "\n",
    "# K之前是一个3维的tensor，现在做多输出通道，那么K要变成4维的tensor, 比如在这里做成3输出通道\n",
    "K = torch.stack((K, K +  1, K + 2), 0)  # 通过将核张量K与K+1(K中每个元素加1)和K+2连接起来，构造了一个具有3个输出通道的卷积核。\n",
    "K.shape, corr2d_multi_in_out(X, K)"
   ],
   "metadata": {
    "collapsed": false,
    "ExecuteTime": {
     "end_time": "2024-04-24T09:01:45.289765Z",
     "start_time": "2024-04-24T09:01:45.257216Z"
    }
   },
   "id": "bdae9a68d0092c0c"
  },
  {
   "cell_type": "markdown",
   "source": [
    "# 1 x 1卷积"
   ],
   "metadata": {
    "collapsed": false
   },
   "id": "b02b09612369c949"
  },
  {
   "cell_type": "code",
   "execution_count": 29,
   "outputs": [],
   "source": [
    "def corr2d_multi_in_out_1x1(X, K):\n",
    "    c_i, h, w = X.shape\n",
    "    c_o = K.shape[0]\n",
    "    X = X.reshape((c_i, h * w))\n",
    "    K = K.reshape((c_o, c_i))\n",
    "    # 全连接层中的矩阵乘法\n",
    "    Y = torch.matmul(K, X)\n",
    "    return Y.reshape((c_o, h, w))"
   ],
   "metadata": {
    "collapsed": false,
    "ExecuteTime": {
     "end_time": "2024-04-24T09:09:23.436165Z",
     "start_time": "2024-04-24T09:09:23.409707Z"
    }
   },
   "id": "ac9b3a8bd6d9f599"
  },
  {
   "cell_type": "code",
   "execution_count": 31,
   "outputs": [
    {
     "data": {
      "text/plain": "True"
     },
     "execution_count": 31,
     "metadata": {},
     "output_type": "execute_result"
    }
   ],
   "source": [
    "X = torch.normal(0, 1, (3, 3, 3))\n",
    "K = torch.normal(0, 1, (2, 3, 1, 1))\n",
    "\n",
    "Y1 = corr2d_multi_in_out_1x1(X, K)\n",
    "Y2 = corr2d_multi_in_out(X, K)\n",
    "float(torch.abs(Y1 - Y2).sum()) < 1e-6"
   ],
   "metadata": {
    "collapsed": false,
    "ExecuteTime": {
     "end_time": "2024-04-24T09:10:46.674477Z",
     "start_time": "2024-04-24T09:10:46.650055Z"
    }
   },
   "id": "6588da3f1c67e0b2"
  }
 ],
 "metadata": {
  "kernelspec": {
   "display_name": "Python 3",
   "language": "python",
   "name": "python3"
  },
  "language_info": {
   "codemirror_mode": {
    "name": "ipython",
    "version": 2
   },
   "file_extension": ".py",
   "mimetype": "text/x-python",
   "name": "python",
   "nbconvert_exporter": "python",
   "pygments_lexer": "ipython2",
   "version": "2.7.6"
  }
 },
 "nbformat": 4,
 "nbformat_minor": 5
}
