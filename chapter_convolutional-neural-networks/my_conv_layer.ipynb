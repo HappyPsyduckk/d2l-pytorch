{
 "cells": [
  {
   "cell_type": "markdown",
   "source": [
    "# 两个原则\n",
    "> 1. 平移不变性\n",
    "> 2. 局部性\n",
    "\n",
    "# 重新考虑全连接层\n",
    "> 1. 将输入和输出变形为矩阵(宽度，高度)\n",
    "> 2. 将权重变形为4-D张量(h, w)到(h', w')\n",
    "<img alt=\"image.png\" height=\"300\" src=\"/Users/loneker/Desktop/d2l/pic/iShot_2024-04-23_15.48.52.png\" width=\"700\"/>\n",
    "\n",
    "# 总结\n",
    "> 1. 卷积层将输入和核矩阵进行交叉相关，加上偏移后得到输出\n",
    "> 2. 核矩阵和偏移是可学习的参数\n",
    "> 3. 核矩阵的大小是超参数"
   ],
   "metadata": {
    "collapsed": false
   },
   "id": "690ca8e3538df31d"
  },
  {
   "cell_type": "markdown",
   "source": [
    "# 实现二维互相关运算"
   ],
   "metadata": {
    "collapsed": false
   },
   "id": "da156295d92d1e75"
  },
  {
   "cell_type": "code",
   "execution_count": 1,
   "id": "initial_id",
   "metadata": {
    "collapsed": true,
    "ExecuteTime": {
     "end_time": "2024-04-24T06:21:11.703279Z",
     "start_time": "2024-04-24T06:21:10.339401Z"
    }
   },
   "outputs": [],
   "source": [
    "import torch\n",
    "from torch import nn\n",
    "from d2l import torch as d2l\n",
    "\n",
    "# 计算二维互相关运算， X是输入， K是核矩阵\n",
    "def corr2d(X, K) : \n",
    "    h, w = K.shape\n",
    "    # Y就是输出的高度和宽度\n",
    "    Y = torch.zeros((X.shape[0] - h + 1, X.shape[1] - w + 1))\n",
    "    for i in range(Y.shape[0]) :\n",
    "        for j in range(Y.shape[1]) : \n",
    "            Y[i, j] = (X[i : i + h, j : j + w] * K).sum()\n",
    "    return Y"
   ]
  },
  {
   "cell_type": "code",
   "execution_count": 2,
   "outputs": [
    {
     "data": {
      "text/plain": "tensor([[19., 25.],\n        [37., 43.]])"
     },
     "execution_count": 2,
     "metadata": {},
     "output_type": "execute_result"
    }
   ],
   "source": [
    "# 验证二维互相关运算的输出\n",
    "X = torch.tensor([[0.0, 1.0, 2.0], [3.0, 4.0, 5.0], [6.0, 7.0, 8.0]])\n",
    "K = torch.tensor([[0.0, 1.0], [2.0, 3.0]])\n",
    "corr2d(X, K)"
   ],
   "metadata": {
    "collapsed": false,
    "ExecuteTime": {
     "end_time": "2024-04-24T06:28:02.285917Z",
     "start_time": "2024-04-24T06:28:02.281175Z"
    }
   },
   "id": "fd7a59daae8f3f98"
  },
  {
   "cell_type": "markdown",
   "source": [
    "# 实现二维卷积层"
   ],
   "metadata": {
    "collapsed": false
   },
   "id": "d6255484197f61eb"
  },
  {
   "cell_type": "code",
   "execution_count": 3,
   "outputs": [],
   "source": [
    "class Conv2D(nn.Module) : \n",
    "    def __init__(self, kernel_size):\n",
    "        super.__init__()\n",
    "        # weight和bias是可学习参数\n",
    "        self.weight = nn.Parameter(torch.rand(kernel_size))\n",
    "        self.bias = nn.Parameter(torch.zeros(1))\n",
    "        \n",
    "    def forward(self, x):\n",
    "        return corr2d(x, self.weight) + self.bias"
   ],
   "metadata": {
    "collapsed": false,
    "ExecuteTime": {
     "end_time": "2024-04-24T06:32:45.651242Z",
     "start_time": "2024-04-24T06:32:45.646031Z"
    }
   },
   "id": "7ca0da24ba2acb37"
  },
  {
   "cell_type": "markdown",
   "source": [
    "# 卷积层的简单应用： 检测图像中不同颜色的边缘"
   ],
   "metadata": {
    "collapsed": false
   },
   "id": "2570163766e51d17"
  },
  {
   "cell_type": "code",
   "execution_count": 4,
   "outputs": [
    {
     "data": {
      "text/plain": "tensor([[1., 1., 0., 0., 0., 0., 1., 1.],\n        [1., 1., 0., 0., 0., 0., 1., 1.],\n        [1., 1., 0., 0., 0., 0., 1., 1.],\n        [1., 1., 0., 0., 0., 0., 1., 1.],\n        [1., 1., 0., 0., 0., 0., 1., 1.],\n        [1., 1., 0., 0., 0., 0., 1., 1.]])"
     },
     "execution_count": 4,
     "metadata": {},
     "output_type": "execute_result"
    }
   ],
   "source": [
    "X = torch.ones((6, 8))\n",
    "X[:, 2 : 6] = 0\n",
    "X"
   ],
   "metadata": {
    "collapsed": false,
    "ExecuteTime": {
     "end_time": "2024-04-24T06:37:02.970123Z",
     "start_time": "2024-04-24T06:37:02.945284Z"
    }
   },
   "id": "aa934f3380fa799"
  },
  {
   "cell_type": "code",
   "execution_count": 5,
   "outputs": [
    {
     "data": {
      "text/plain": "tensor([[ 0.,  1.,  0.,  0.,  0., -1.,  0.],\n        [ 0.,  1.,  0.,  0.,  0., -1.,  0.],\n        [ 0.,  1.,  0.,  0.,  0., -1.,  0.],\n        [ 0.,  1.,  0.,  0.,  0., -1.,  0.],\n        [ 0.,  1.,  0.,  0.,  0., -1.,  0.],\n        [ 0.,  1.,  0.,  0.,  0., -1.,  0.]])"
     },
     "execution_count": 5,
     "metadata": {},
     "output_type": "execute_result"
    }
   ],
   "source": [
    "K = torch.tensor([[1.0, -1.0]]) # 如果横向连续两个数一样，则结果为0，否则不为0\n",
    "Y= corr2d(X, K)\n",
    "Y   # Y 中的 1 代表从白色到黑色的边缘， -1 代表从黑色到白色的边缘"
   ],
   "metadata": {
    "collapsed": false,
    "ExecuteTime": {
     "end_time": "2024-04-24T06:43:01.954332Z",
     "start_time": "2024-04-24T06:43:01.938859Z"
    }
   },
   "id": "19e1f56fcc6a2ee8"
  },
  {
   "cell_type": "markdown",
   "source": [
    "# 学习由X生成Y的卷积核(现在不知道K是什么样子)"
   ],
   "metadata": {
    "collapsed": false
   },
   "id": "63261e240068d2f7"
  },
  {
   "cell_type": "code",
   "execution_count": 10,
   "outputs": [
    {
     "name": "stdout",
     "output_type": "stream",
     "text": [
      "batch 2, loss  6.565\n",
      "batch 4, loss  1.135\n",
      "batch 6, loss  0.204\n",
      "batch 8, loss  0.040\n",
      "batch 10, loss  0.009\n"
     ]
    }
   ],
   "source": [
    "conv2d = nn.Conv2d(1, 1, kernel_size=(1, 2), bias = False)\n",
    "\n",
    "X = X.reshape((1, 1, 6, 8))\n",
    "Y = Y.reshape((1, 1, 6, 7))\n",
    "\n",
    "for i in range(10) : \n",
    "    Y_hat = conv2d(X)\n",
    "    l = (Y_hat - Y) ** 2\n",
    "    conv2d.zero_grad()\n",
    "    l.sum().backward()\n",
    "    # 手动实现优化器\n",
    "    conv2d.weight.data[:] -= 3e-2 * conv2d.weight.grad\n",
    "    if (i + 1) % 2 == 0 :\n",
    "        print(f'batch {i + 1}, loss {l.sum() : .3f}')"
   ],
   "metadata": {
    "collapsed": false,
    "ExecuteTime": {
     "end_time": "2024-04-24T07:00:09.510694Z",
     "start_time": "2024-04-24T07:00:09.494852Z"
    }
   },
   "id": "c51834693054c375"
  },
  {
   "cell_type": "code",
   "execution_count": 11,
   "outputs": [
    {
     "data": {
      "text/plain": "tensor([[ 0.9804, -0.9932]])"
     },
     "execution_count": 11,
     "metadata": {},
     "output_type": "execute_result"
    }
   ],
   "source": [
    "conv2d.weight.data.reshape((1, 2))"
   ],
   "metadata": {
    "collapsed": false,
    "ExecuteTime": {
     "end_time": "2024-04-24T07:00:12.250349Z",
     "start_time": "2024-04-24T07:00:12.220199Z"
    }
   },
   "id": "74b45c4c0f3b2c7b"
  }
 ],
 "metadata": {
  "kernelspec": {
   "display_name": "Python 3",
   "language": "python",
   "name": "python3"
  },
  "language_info": {
   "codemirror_mode": {
    "name": "ipython",
    "version": 2
   },
   "file_extension": ".py",
   "mimetype": "text/x-python",
   "name": "python",
   "nbconvert_exporter": "python",
   "pygments_lexer": "ipython2",
   "version": "2.7.6"
  }
 },
 "nbformat": 4,
 "nbformat_minor": 5
}
