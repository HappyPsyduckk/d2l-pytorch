{
 "cells": [
  {
   "cell_type": "markdown",
   "source": [
    "# 两个原则\n",
    "> 1. 平移不变性\n",
    "> 2. 局部性\n",
    "\n",
    "# 重新考虑全连接层\n",
    "> 1. 将输入和输出变形为矩阵(宽度，高度)\n",
    "> 2. 将权重变形为4-D张量(h, w)到(h', w')\n",
    "<img alt=\"image.png\" height=\"300\" src=\"/Users/loneker/Desktop/d2l/pic/iShot_2024-04-23_15.48.52.png\" width=\"700\"/>\n",
    "\n",
    "# 总结\n",
    "> 1. 卷积层将输入和核矩阵进行交叉相关，加上偏移后得到输出\n",
    "> 2. 核矩阵和偏移是可学习的参数\n",
    "> 3. 核矩阵的大小是超参数"
   ],
   "metadata": {
    "collapsed": false
   },
   "id": "a36493fad192a0cc"
  },
  {
   "cell_type": "code",
   "execution_count": null,
   "id": "initial_id",
   "metadata": {
    "collapsed": true
   },
   "outputs": [],
   "source": []
  }
 ],
 "metadata": {
  "kernelspec": {
   "display_name": "Python 3",
   "language": "python",
   "name": "python3"
  },
  "language_info": {
   "codemirror_mode": {
    "name": "ipython",
    "version": 2
   },
   "file_extension": ".py",
   "mimetype": "text/x-python",
   "name": "python",
   "nbconvert_exporter": "python",
   "pygments_lexer": "ipython2",
   "version": "2.7.6"
  }
 },
 "nbformat": 4,
 "nbformat_minor": 5
}
