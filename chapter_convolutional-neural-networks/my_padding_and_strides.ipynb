{
 "cells": [
  {
   "cell_type": "markdown",
   "source": [
    "更大的卷积核可以更快地减小输出大小\n",
    "如果不想那么快地将输出变小，可以使用填充\n",
    "# 填充\n",
    "> 在输入周围添加额外的行和列\n",
    "> 取Ph = Kh - 1, Pw = Kw - 1，这样输入输出的大小不会发生改变\n",
    "<img alt=\"image.png\" height=\"550\" src=\"/Users/loneker/Desktop/d2l/pic/iShot_2024-04-24_15.21.20.png\" width=\"700\"/>"
   ],
   "metadata": {
    "collapsed": false
   },
   "id": "4c67dc7d8bbf61f9"
  },
  {
   "cell_type": "markdown",
   "source": [
    "# 步幅\n",
    "> 步幅是指行/列的滑动步长\n",
    "<img alt=\"image.png\" height=\"450\" src=\"/Users/loneker/Desktop/d2l/pic/iShot_2024-04-24_15.33.06.png\" width=\"700\"/>"
   ],
   "metadata": {
    "collapsed": false
   },
   "id": "2bc508df7f574e55"
  },
  {
   "cell_type": "markdown",
   "source": [
    "# 总结\n",
    "> 1. 填充和步幅是卷积层的超参数\n",
    "> 2. 填充在输入周围添加额外的行和列，来控制输出形状的减少量\n",
    "> 3. 步幅是每次滑动核窗口时的行/列的步长，可以成倍的减少输出形状"
   ],
   "metadata": {
    "collapsed": false
   },
   "id": "5d78417b0e47cdd0"
  },
  {
   "cell_type": "code",
   "execution_count": 2,
   "id": "initial_id",
   "metadata": {
    "collapsed": true,
    "ExecuteTime": {
     "end_time": "2024-04-24T07:43:47.998260Z",
     "start_time": "2024-04-24T07:43:47.976556Z"
    }
   },
   "outputs": [
    {
     "data": {
      "text/plain": "torch.Size([8, 8])"
     },
     "execution_count": 2,
     "metadata": {},
     "output_type": "execute_result"
    }
   ],
   "source": [
    "import torch\n",
    "from torch import nn\n",
    "\n",
    "def comp_conv2d(conv2d, X) : \n",
    "    X = X.reshape((1, 1) + X.shape)     # (1, 1) 是通道数和批量大小数\n",
    "    Y = conv2d(X)\n",
    "    return Y.reshape(Y.shape[2:])       # 输出是一个四维的东西，将前面两维拿掉\n",
    "\n",
    "conv2d = nn.Conv2d(1, 1, kernel_size=3, padding=1)  # 上下左右各填充一行\n",
    "X = torch.rand(size=(8, 8))\n",
    "comp_conv2d(conv2d, X).shape"
   ]
  },
  {
   "cell_type": "code",
   "execution_count": 3,
   "outputs": [
    {
     "data": {
      "text/plain": "torch.Size([8, 8])"
     },
     "execution_count": 3,
     "metadata": {},
     "output_type": "execute_result"
    }
   ],
   "source": [
    "# 填充不同的高度和宽度\n",
    "conv2d = nn.Conv2d(1, 1, kernel_size=(5, 3), padding=(2, 1))    # 如果想要输出大小不变的话，上下要各填两行，左右各填一列\n",
    "comp_conv2d(conv2d, X).shape"
   ],
   "metadata": {
    "collapsed": false,
    "ExecuteTime": {
     "end_time": "2024-04-24T07:45:56.632909Z",
     "start_time": "2024-04-24T07:45:56.628009Z"
    }
   },
   "id": "d92377cef9a7b7f0"
  },
  {
   "cell_type": "markdown",
   "source": [
    "# 步幅"
   ],
   "metadata": {
    "collapsed": false
   },
   "id": "47433014343e2914"
  },
  {
   "cell_type": "code",
   "execution_count": 4,
   "outputs": [
    {
     "data": {
      "text/plain": "torch.Size([4, 4])"
     },
     "execution_count": 4,
     "metadata": {},
     "output_type": "execute_result"
    }
   ],
   "source": [
    "# 将高度和宽度的步幅设置为2\n",
    "conv2d = nn.Conv2d(1, 1, kernel_size=3, padding=1, stride=2)    # 每次移两行或者两列\n",
    "comp_conv2d(conv2d, X).shape"
   ],
   "metadata": {
    "collapsed": false,
    "ExecuteTime": {
     "end_time": "2024-04-24T07:47:14.189707Z",
     "start_time": "2024-04-24T07:47:14.180028Z"
    }
   },
   "id": "35a18f00f41767c"
  },
  {
   "cell_type": "code",
   "execution_count": 5,
   "outputs": [
    {
     "data": {
      "text/plain": "torch.Size([2, 2])"
     },
     "execution_count": 5,
     "metadata": {},
     "output_type": "execute_result"
    }
   ],
   "source": [
    "conv2d = nn.Conv2d(1, 1, kernel_size=(3, 5), padding=(0, 1), stride=(3, 4))\n",
    "comp_conv2d(conv2d, X).shape"
   ],
   "metadata": {
    "collapsed": false,
    "ExecuteTime": {
     "end_time": "2024-04-24T07:48:49.794952Z",
     "start_time": "2024-04-24T07:48:49.789688Z"
    }
   },
   "id": "16bf2d8d754d9930"
  }
 ],
 "metadata": {
  "kernelspec": {
   "display_name": "Python 3",
   "language": "python",
   "name": "python3"
  },
  "language_info": {
   "codemirror_mode": {
    "name": "ipython",
    "version": 2
   },
   "file_extension": ".py",
   "mimetype": "text/x-python",
   "name": "python",
   "nbconvert_exporter": "python",
   "pygments_lexer": "ipython2",
   "version": "2.7.6"
  }
 },
 "nbformat": 4,
 "nbformat_minor": 5
}
