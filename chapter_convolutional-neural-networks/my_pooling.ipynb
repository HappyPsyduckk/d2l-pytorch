{
 "cells": [
  {
   "cell_type": "markdown",
   "source": [
    "# 池化层\n",
    "> 卷积对位置敏感\n",
    "> 需要一定程度的平移不变性\n",
    "\n",
    "\n",
    "二维最大池化\n",
    "> 返回滑动窗口中的最大值\n",
    "\n",
    "> 具有填充和步幅\n",
    "> 没有可学习的参数\n",
    "> 在每个输入通道应用池化层以获得相应的输出通道\n",
    "> 输出通道数 = 输入通道数\n",
    "\n",
    "\n",
    "平均池化层\n",
    "\n",
    "最大池化层：每个窗口中最强的模式信号\n",
    "平均池化层：每个窗口中平均的信号模式\n",
    "\n",
    "\n",
    "# 总结\n",
    "> 池化层返回窗口中最大或平均值\n",
    "> 缓解卷积层位置的敏感性\n",
    "> 同样具有窗口大小、填充、步幅作为超参数"
   ],
   "metadata": {
    "collapsed": false
   },
   "id": "469631fda9513a9b"
  },
  {
   "cell_type": "code",
   "execution_count": 1,
   "id": "initial_id",
   "metadata": {
    "collapsed": true,
    "ExecuteTime": {
     "end_time": "2024-04-24T09:43:29.534615Z",
     "start_time": "2024-04-24T09:43:28.393214Z"
    }
   },
   "outputs": [],
   "source": [
    "import torch\n",
    "from torch import nn\n",
    "from d2l import torch as d2l\n",
    "\n",
    "def pool2d(X, pool_size, mode='max'):\n",
    "    p_h, p_w = pool_size\n",
    "    Y = torch.zeros((X.shape[0] - p_h + 1, X.shape[1] - p_w + 1))\n",
    "    for i in range(Y.shape[0]):\n",
    "        for j in range(Y.shape[1]):\n",
    "            if mode == 'max':\n",
    "                Y[i, j] = X[i: i + p_h, j: j + p_w].max()\n",
    "            elif mode == 'avg':\n",
    "                Y[i, j] = X[i: i + p_h, j: j + p_w].mean()\n",
    "    return Y"
   ]
  },
  {
   "cell_type": "code",
   "execution_count": 2,
   "outputs": [
    {
     "data": {
      "text/plain": "tensor([[4., 5.],\n        [7., 8.]])"
     },
     "execution_count": 2,
     "metadata": {},
     "output_type": "execute_result"
    }
   ],
   "source": [
    "X = torch.tensor([[0.0, 1.0, 2.0], [3.0, 4.0, 5.0], [6.0, 7.0, 8.0]])\n",
    "pool2d(X, (2, 2))"
   ],
   "metadata": {
    "collapsed": false,
    "ExecuteTime": {
     "end_time": "2024-04-24T09:44:29.627066Z",
     "start_time": "2024-04-24T09:44:29.613345Z"
    }
   },
   "id": "7b4793218e29331c"
  },
  {
   "cell_type": "code",
   "execution_count": 3,
   "outputs": [
    {
     "data": {
      "text/plain": "tensor([[2., 3.],\n        [5., 6.]])"
     },
     "execution_count": 3,
     "metadata": {},
     "output_type": "execute_result"
    }
   ],
   "source": [
    "pool2d(X, (2, 2), 'avg')"
   ],
   "metadata": {
    "collapsed": false,
    "ExecuteTime": {
     "end_time": "2024-04-24T09:44:47.620612Z",
     "start_time": "2024-04-24T09:44:47.581114Z"
    }
   },
   "id": "329369161c008abe"
  },
  {
   "cell_type": "markdown",
   "source": [
    "# 填充与步幅"
   ],
   "metadata": {
    "collapsed": false
   },
   "id": "46a8856faba20269"
  },
  {
   "cell_type": "code",
   "execution_count": 4,
   "outputs": [
    {
     "data": {
      "text/plain": "tensor([[[[ 0.,  1.,  2.,  3.],\n          [ 4.,  5.,  6.,  7.],\n          [ 8.,  9., 10., 11.],\n          [12., 13., 14., 15.]]]])"
     },
     "execution_count": 4,
     "metadata": {},
     "output_type": "execute_result"
    }
   ],
   "source": [
    "X = torch.arange(16, dtype=torch.float32).reshape((1, 1, 4, 4))\n",
    "X"
   ],
   "metadata": {
    "collapsed": false,
    "ExecuteTime": {
     "end_time": "2024-04-24T09:46:39.133589Z",
     "start_time": "2024-04-24T09:46:39.117268Z"
    }
   },
   "id": "215611d6750b73e0"
  },
  {
   "cell_type": "code",
   "execution_count": 5,
   "outputs": [
    {
     "data": {
      "text/plain": "tensor([[[[10.]]]])"
     },
     "execution_count": 5,
     "metadata": {},
     "output_type": "execute_result"
    }
   ],
   "source": [
    "pool2d = nn.MaxPool2d(3)    # 3是窗口大小，据说pytorch默认窗口大小和步幅是一样的\n",
    "pool2d(X)"
   ],
   "metadata": {
    "collapsed": false,
    "ExecuteTime": {
     "end_time": "2024-04-24T09:47:26.717901Z",
     "start_time": "2024-04-24T09:47:26.699736Z"
    }
   },
   "id": "176fb5d7a7d6ade2"
  },
  {
   "cell_type": "markdown",
   "source": [
    "# 多个通道"
   ],
   "metadata": {
    "collapsed": false
   },
   "id": "95164d7b8138f38f"
  },
  {
   "cell_type": "code",
   "execution_count": 6,
   "outputs": [
    {
     "data": {
      "text/plain": "tensor([[[[ 0.,  1.,  2.,  3.],\n          [ 4.,  5.,  6.,  7.],\n          [ 8.,  9., 10., 11.],\n          [12., 13., 14., 15.]],\n\n         [[ 1.,  2.,  3.,  4.],\n          [ 5.,  6.,  7.,  8.],\n          [ 9., 10., 11., 12.],\n          [13., 14., 15., 16.]]]])"
     },
     "execution_count": 6,
     "metadata": {},
     "output_type": "execute_result"
    }
   ],
   "source": [
    "X = torch.cat((X, X + 1), 1)\n",
    "X\n"
   ],
   "metadata": {
    "collapsed": false,
    "ExecuteTime": {
     "end_time": "2024-04-24T09:48:50.012985Z",
     "start_time": "2024-04-24T09:48:50.007130Z"
    }
   },
   "id": "351740ef31780f80"
  },
  {
   "cell_type": "code",
   "execution_count": 7,
   "outputs": [
    {
     "data": {
      "text/plain": "tensor([[[[ 5.,  7.],\n          [13., 15.]],\n\n         [[ 6.,  8.],\n          [14., 16.]]]])"
     },
     "execution_count": 7,
     "metadata": {},
     "output_type": "execute_result"
    }
   ],
   "source": [
    "pool2d = nn.MaxPool2d(3, padding=1, stride=2)\n",
    "pool2d(X)"
   ],
   "metadata": {
    "collapsed": false,
    "ExecuteTime": {
     "end_time": "2024-04-24T09:49:26.395746Z",
     "start_time": "2024-04-24T09:49:26.378582Z"
    }
   },
   "id": "f5e572977c3ba30a"
  }
 ],
 "metadata": {
  "kernelspec": {
   "display_name": "Python 3",
   "language": "python",
   "name": "python3"
  },
  "language_info": {
   "codemirror_mode": {
    "name": "ipython",
    "version": 2
   },
   "file_extension": ".py",
   "mimetype": "text/x-python",
   "name": "python",
   "nbconvert_exporter": "python",
   "pygments_lexer": "ipython2",
   "version": "2.7.6"
  }
 },
 "nbformat": 4,
 "nbformat_minor": 5
}
