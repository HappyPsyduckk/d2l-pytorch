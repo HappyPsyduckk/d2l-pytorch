{
 "cells": [
  {
   "cell_type": "markdown",
   "source": [
    "# 层和块\n",
    "nn.Sequential定义了一种特殊的Module"
   ],
   "metadata": {
    "collapsed": false
   },
   "id": "f0e3d1a1a79eeea9"
  },
  {
   "cell_type": "code",
   "execution_count": 5,
   "id": "initial_id",
   "metadata": {
    "collapsed": true,
    "ExecuteTime": {
     "end_time": "2024-04-18T04:10:56.659008Z",
     "start_time": "2024-04-18T04:10:56.639554Z"
    }
   },
   "outputs": [
    {
     "data": {
      "text/plain": "tensor([[ 0.0719, -0.0643, -0.0151, -0.0314,  0.0980,  0.0106,  0.0096,  0.0139,\n          0.0171,  0.1358],\n        [ 0.0283,  0.0251, -0.0501, -0.0921, -0.0039,  0.0901,  0.0652,  0.0480,\n         -0.0977,  0.2386]], grad_fn=<AddmmBackward0>)"
     },
     "execution_count": 5,
     "metadata": {},
     "output_type": "execute_result"
    }
   ],
   "source": [
    "import torch\n",
    "from torch import nn\n",
    "from torch.nn import functional as F\n",
    "\n",
    "net = nn.Sequential(nn.Linear(20, 256), nn.ReLU(), nn.Linear(256, 10))\n",
    "\n",
    "X = torch.rand(2, 20)\n",
    "net(X)"
   ]
  },
  {
   "cell_type": "markdown",
   "source": [
    "## 自定义块"
   ],
   "metadata": {
    "collapsed": false
   },
   "id": "a105190a67aea67a"
  },
  {
   "cell_type": "code",
   "execution_count": 2,
   "outputs": [],
   "source": [
    "class MLP(nn.Module):\n",
    "    # 用模型参数声明层。这里，我们声明两个全连接的层\n",
    "    def __init__(self):\n",
    "        # 调用MLP的父类Module的构造函数来执行必要的初始化。\n",
    "        # 这样，在类实例化时也可以指定其他函数参数，例如模型参数params（稍后将介绍）\n",
    "        super().__init__()\n",
    "        self.hidden = nn.Linear(20, 256)  # 隐藏层\n",
    "        self.out = nn.Linear(256, 10)  # 输出层\n",
    "\n",
    "    # 定义模型的前向传播，即如何根据输入X返回所需的模型输出\n",
    "    def forward(self, X):\n",
    "        # 注意，这里我们使用ReLU的函数版本，其在nn.functional模块中定义。\n",
    "        return self.out(F.relu(self.hidden(X)))"
   ],
   "metadata": {
    "collapsed": false,
    "ExecuteTime": {
     "end_time": "2024-04-18T04:03:11.837982Z",
     "start_time": "2024-04-18T04:03:11.817762Z"
    }
   },
   "id": "ca69a47fc502f19e"
  },
  {
   "cell_type": "code",
   "execution_count": 3,
   "outputs": [
    {
     "data": {
      "text/plain": "tensor([[-1.2792e-01, -2.0659e-01,  3.0194e-02, -8.7853e-02, -9.6134e-02,\n         -7.7634e-02, -5.7369e-05, -1.5026e-01,  1.1569e-01,  1.2136e-01],\n        [-7.4590e-02, -9.2572e-02, -2.7745e-02, -1.3042e-01, -1.6657e-01,\n         -1.9541e-03, -5.4200e-02, -1.5756e-01,  4.3353e-02,  8.4797e-02]],\n       grad_fn=<AddmmBackward0>)"
     },
     "execution_count": 3,
     "metadata": {},
     "output_type": "execute_result"
    }
   ],
   "source": [
    "net = MLP()\n",
    "net(X)"
   ],
   "metadata": {
    "collapsed": false,
    "ExecuteTime": {
     "end_time": "2024-04-18T04:03:23.223136Z",
     "start_time": "2024-04-18T04:03:23.192592Z"
    }
   },
   "id": "da4dc14e2ee22e52"
  },
  {
   "cell_type": "markdown",
   "source": [
    "## 顺序块"
   ],
   "metadata": {
    "collapsed": false
   },
   "id": "e2a197e0f265a5b9"
  },
  {
   "cell_type": "code",
   "execution_count": 6,
   "outputs": [
    {
     "data": {
      "text/plain": "tensor([[ 0.0447,  0.0277,  0.0119,  0.1760,  0.1231,  0.0300,  0.0860, -0.0752,\n          0.1193,  0.0070],\n        [ 0.0514,  0.1013, -0.0087,  0.1560,  0.2576,  0.0240,  0.2003, -0.0912,\n          0.0458, -0.0356]], grad_fn=<AddmmBackward0>)"
     },
     "execution_count": 6,
     "metadata": {},
     "output_type": "execute_result"
    }
   ],
   "source": [
    "class MySequential(nn.Module) :     # 定义MySequential是nn.Module的一个子类\n",
    "    def __init__(self, *args) :     # *args存放着每一层信息\n",
    "        super().__init__()\n",
    "        for block in args : \n",
    "            self._modules[block] = block    # _module是python中特殊的类，能存放每一层信息\n",
    "    def forward(self, X):\n",
    "        for block in self._modules.values():\n",
    "            X = block(X)\n",
    "        return X\n",
    "    \n",
    "net = MySequential(nn.Linear(20, 256), nn.ReLU(), nn.Linear(256, 10))\n",
    "net(X)"
   ],
   "metadata": {
    "collapsed": false,
    "ExecuteTime": {
     "end_time": "2024-04-18T04:11:08.869782Z",
     "start_time": "2024-04-18T04:11:08.858561Z"
    }
   },
   "id": "2865a7d1247ad5b8"
  },
  {
   "cell_type": "markdown",
   "source": [
    "## 在前向传播函数中执行代码"
   ],
   "metadata": {
    "collapsed": false
   },
   "id": "9c614331b89c0141"
  },
  {
   "cell_type": "code",
   "execution_count": 7,
   "outputs": [
    {
     "data": {
      "text/plain": "tensor(0.1254, grad_fn=<SumBackward0>)"
     },
     "execution_count": 7,
     "metadata": {},
     "output_type": "execute_result"
    }
   ],
   "source": [
    "class FixedHiddenMLP(nn.Module):\n",
    "    def __init__(self):\n",
    "        super().__init__()\n",
    "        # 不计算梯度的随机权重参数。因此其在训练期间保持不变\n",
    "        self.rand_weight = torch.rand((20, 20), requires_grad=False)\n",
    "        self.linear = nn.Linear(20, 20)\n",
    "\n",
    "    def forward(self, X):\n",
    "        X = self.linear(X)\n",
    "        # 使用创建的常量参数以及relu和mm函数\n",
    "        X = F.relu(torch.mm(X, self.rand_weight) + 1)\n",
    "        # 复用全连接层。这相当于两个全连接层共享参数\n",
    "        X = self.linear(X)\n",
    "        # 控制流\n",
    "        while X.abs().sum() > 1:\n",
    "            X /= 2\n",
    "        return X.sum()\n",
    "\n",
    "net = FixedHiddenMLP()\n",
    "net(X)"
   ],
   "metadata": {
    "collapsed": false,
    "ExecuteTime": {
     "end_time": "2024-04-18T04:15:04.912566Z",
     "start_time": "2024-04-18T04:15:04.906033Z"
    }
   },
   "id": "7ab023ba96d2666a"
  },
  {
   "cell_type": "markdown",
   "source": [
    "## 混合搭配各种组合块的方法"
   ],
   "metadata": {
    "collapsed": false
   },
   "id": "3f8ccdc32d9f1e57"
  },
  {
   "cell_type": "code",
   "execution_count": 8,
   "outputs": [
    {
     "data": {
      "text/plain": "tensor(0.4380, grad_fn=<SumBackward0>)"
     },
     "execution_count": 8,
     "metadata": {},
     "output_type": "execute_result"
    }
   ],
   "source": [
    "class NestMLP(nn.Module):\n",
    "    def __init__(self):\n",
    "        super().__init__()\n",
    "        self.net = nn.Sequential(nn.Linear(20, 64), nn.ReLU(),\n",
    "                                 nn.Linear(64, 32), nn.ReLU())\n",
    "        self.linear = nn.Linear(32, 16)\n",
    "\n",
    "    def forward(self, X):\n",
    "        return self.linear(self.net(X))\n",
    "\n",
    "chimera = nn.Sequential(NestMLP(), nn.Linear(16, 20), FixedHiddenMLP())\n",
    "chimera(X) "
   ],
   "metadata": {
    "collapsed": false,
    "ExecuteTime": {
     "end_time": "2024-04-18T04:23:00.163388Z",
     "start_time": "2024-04-18T04:23:00.149375Z"
    }
   },
   "id": "831960101344e592"
  },
  {
   "cell_type": "markdown",
   "source": [
    "# 参数管理"
   ],
   "metadata": {
    "collapsed": false
   },
   "id": "7775ea27f04e284a"
  },
  {
   "cell_type": "code",
   "execution_count": 9,
   "outputs": [
    {
     "data": {
      "text/plain": "tensor([[0.0334],\n        [0.0789]], grad_fn=<AddmmBackward0>)"
     },
     "execution_count": 9,
     "metadata": {},
     "output_type": "execute_result"
    }
   ],
   "source": [
    "import torch\n",
    "from torch import nn\n",
    "\n",
    "net = nn.Sequential(nn.Linear(4, 8), nn.ReLU(), nn.Linear(8, 1))        # net0, net1, net2\n",
    "X = torch.rand(size=(2, 4))\n",
    "net(X)"
   ],
   "metadata": {
    "collapsed": false,
    "ExecuteTime": {
     "end_time": "2024-04-18T04:33:05.019402Z",
     "start_time": "2024-04-18T04:33:05.010903Z"
    }
   },
   "id": "480f5af936ec92af"
  },
  {
   "cell_type": "code",
   "execution_count": 13,
   "outputs": [
    {
     "name": "stdout",
     "output_type": "stream",
     "text": [
      "OrderedDict([('weight', tensor([[ 0.0133,  0.2914,  0.0502, -0.1816,  0.2387,  0.0442, -0.2925, -0.0849]])), ('bias', tensor([0.0541]))])\n",
      "<class 'torch.nn.parameter.Parameter'>\n",
      "Parameter containing:\n",
      "tensor([0.0541], requires_grad=True)\n",
      "tensor([0.0541])\n"
     ]
    },
    {
     "data": {
      "text/plain": "True"
     },
     "execution_count": 13,
     "metadata": {},
     "output_type": "execute_result"
    }
   ],
   "source": [
    "# 参数访问\n",
    "print(net[2].state_dict())      # 从自动机角度来讲，权重就是状态\n",
    "\n",
    "print(type(net[2].bias))        # bias是一个Parameter的类型，是一个可以优化的参数\n",
    "print(net[2].bias)\n",
    "print(net[2].bias.data)\n",
    "net[2].weight.grad == None\n",
    "# .data是访问它的weight， .grad是访问梯度，因为没做反向计算，所以grad == None"
   ],
   "metadata": {
    "collapsed": false,
    "ExecuteTime": {
     "end_time": "2024-04-22T04:41:50.336560Z",
     "start_time": "2024-04-22T04:41:50.325760Z"
    }
   },
   "id": "c8a03fec8e4d8731"
  },
  {
   "cell_type": "code",
   "execution_count": 15,
   "outputs": [
    {
     "name": "stdout",
     "output_type": "stream",
     "text": [
      "('weight', torch.Size([8, 4])) ('bias', torch.Size([8]))\n",
      "('0.weight', torch.Size([8, 4])) ('0.bias', torch.Size([8])) ('2.weight', torch.Size([1, 8])) ('2.bias', torch.Size([1]))\n"
     ]
    },
    {
     "data": {
      "text/plain": "tensor([0.0541])"
     },
     "execution_count": 15,
     "metadata": {},
     "output_type": "execute_result"
    }
   ],
   "source": [
    "# 一次性访问所有参数\n",
    "print(*[(name, param.shape) for name, param in net[0].named_parameters()])\n",
    "print(*[(name, param.shape) for name, param in net.named_parameters()])     # Relu是没有参数的，所以不会有输出\n",
    "\n",
    "# 可以通过名字输出参数\n",
    "net.state_dict()['2.bias'].data"
   ],
   "metadata": {
    "collapsed": false,
    "ExecuteTime": {
     "end_time": "2024-04-22T04:52:55.507178Z",
     "start_time": "2024-04-22T04:52:55.500470Z"
    }
   },
   "id": "1952c681f3efca36"
  },
  {
   "cell_type": "code",
   "execution_count": 19,
   "outputs": [
    {
     "data": {
      "text/plain": "tensor([[0.1480],\n        [0.1480]], grad_fn=<AddmmBackward0>)"
     },
     "execution_count": 19,
     "metadata": {},
     "output_type": "execute_result"
    }
   ],
   "source": [
    "def block1() : \n",
    "    return nn.Sequential(nn.Linear(4, 8), nn.ReLU(), nn.Linear(8, 4), nn.ReLU())\n",
    "\n",
    "def block2() :\n",
    "    net = nn.Sequential()\n",
    "    for i in range(4):\n",
    "        net.add_module(f'block {i}', block1())      # 跟直接Sequential的区别是可以传进来每一个block的名字\n",
    "    return net\n",
    "\n",
    "rgnet = nn.Sequential(block2(), nn.Linear(4, 1))\n",
    "rgnet(X)"
   ],
   "metadata": {
    "collapsed": false,
    "ExecuteTime": {
     "end_time": "2024-04-22T05:02:30.191903Z",
     "start_time": "2024-04-22T05:02:30.174645Z"
    }
   },
   "id": "932be3be550b3d5e"
  },
  {
   "cell_type": "code",
   "execution_count": 20,
   "outputs": [
    {
     "name": "stdout",
     "output_type": "stream",
     "text": [
      "Sequential(\n",
      "  (0): Sequential(\n",
      "    (block 0): Sequential(\n",
      "      (0): Linear(in_features=4, out_features=8, bias=True)\n",
      "      (1): ReLU()\n",
      "      (2): Linear(in_features=8, out_features=4, bias=True)\n",
      "      (3): ReLU()\n",
      "    )\n",
      "    (block 1): Sequential(\n",
      "      (0): Linear(in_features=4, out_features=8, bias=True)\n",
      "      (1): ReLU()\n",
      "      (2): Linear(in_features=8, out_features=4, bias=True)\n",
      "      (3): ReLU()\n",
      "    )\n",
      "    (block 2): Sequential(\n",
      "      (0): Linear(in_features=4, out_features=8, bias=True)\n",
      "      (1): ReLU()\n",
      "      (2): Linear(in_features=8, out_features=4, bias=True)\n",
      "      (3): ReLU()\n",
      "    )\n",
      "    (block 3): Sequential(\n",
      "      (0): Linear(in_features=4, out_features=8, bias=True)\n",
      "      (1): ReLU()\n",
      "      (2): Linear(in_features=8, out_features=4, bias=True)\n",
      "      (3): ReLU()\n",
      "    )\n",
      "  )\n",
      "  (1): Linear(in_features=4, out_features=1, bias=True)\n",
      ")\n"
     ]
    }
   ],
   "source": [
    "# 看看网络是如何组织的\n",
    "print(rgnet)"
   ],
   "metadata": {
    "collapsed": false,
    "ExecuteTime": {
     "end_time": "2024-04-22T05:03:03.690809Z",
     "start_time": "2024-04-22T05:03:03.679041Z"
    }
   },
   "id": "c52050740b88c57e"
  },
  {
   "cell_type": "markdown",
   "source": [
    "# 内置初始化"
   ],
   "metadata": {
    "collapsed": false
   },
   "id": "df9a99dcd5879b9b"
  },
  {
   "cell_type": "code",
   "execution_count": 23,
   "outputs": [
    {
     "data": {
      "text/plain": "(tensor([[-0.0177,  0.0049, -0.0203,  0.0063],\n         [ 0.0065,  0.0042, -0.0117,  0.0128],\n         [-0.0140,  0.0037,  0.0063, -0.0125],\n         [ 0.0178, -0.0140, -0.0034,  0.0008],\n         [ 0.0014, -0.0211,  0.0060, -0.0230],\n         [-0.0122, -0.0005, -0.0023, -0.0057],\n         [ 0.0019, -0.0002, -0.0059,  0.0010],\n         [ 0.0024, -0.0011, -0.0117,  0.0036]]),\n tensor([0., 0., 0., 0., 0., 0., 0., 0.]))"
     },
     "execution_count": 23,
     "metadata": {},
     "output_type": "execute_result"
    }
   ],
   "source": [
    "def init_normal(m) :    # m 会是一个module, normal是正态分布\n",
    "    if type(m) == nn.Linear :   # 如果是全连接层\n",
    "        nn.init.normal_(m.weight, mean = 0, std = 0.01)\n",
    "        nn.init.zeros_(m.bias)\n",
    "\n",
    "net.apply(init_normal)  # 对net里面的每一个layer调用这个函数\n",
    "net[0].weight.data, net[0].bias.data"
   ],
   "metadata": {
    "collapsed": false,
    "ExecuteTime": {
     "end_time": "2024-04-22T05:09:28.781896Z",
     "start_time": "2024-04-22T05:09:28.772084Z"
    }
   },
   "id": "22cbb20355c35277"
  },
  {
   "cell_type": "code",
   "execution_count": 27,
   "outputs": [
    {
     "data": {
      "text/plain": "(tensor([1., 1., 1., 1.]), tensor(0.))"
     },
     "execution_count": 27,
     "metadata": {},
     "output_type": "execute_result"
    }
   ],
   "source": [
    "def init_constant(m) :    # m 会是一个module, normal是正态分布\n",
    "    if type(m) == nn.Linear :   # 如果是全连接层\n",
    "        nn.init.constant_(m.weight, 1)\n",
    "        nn.init.zeros_(m.bias)\n",
    "\n",
    "net.apply(init_constant)  # 对net里面的每一个layer调用这个函数\n",
    "net[0].weight.data[0], net[0].bias.data[0]"
   ],
   "metadata": {
    "collapsed": false,
    "ExecuteTime": {
     "end_time": "2024-04-22T05:14:20.122199Z",
     "start_time": "2024-04-22T05:14:20.102479Z"
    }
   },
   "id": "78bf3a2e7b8ac7f6"
  },
  {
   "cell_type": "markdown",
   "source": [
    "# 对某些块应用不同的初始化方法"
   ],
   "metadata": {
    "collapsed": false
   },
   "id": "ef01aa88f0ce1fda"
  },
  {
   "cell_type": "code",
   "execution_count": 29,
   "outputs": [
    {
     "name": "stdout",
     "output_type": "stream",
     "text": [
      "tensor([-0.1672,  0.5539,  0.2150, -0.1902])\n",
      "tensor([[42., 42., 42., 42., 42., 42., 42., 42.]])\n"
     ]
    }
   ],
   "source": [
    "def xavier(m) : \n",
    "    if type(m) == nn.Linear:\n",
    "        nn.init.xavier_uniform_(m.weight)\n",
    "\n",
    "def init_42(m) : \n",
    "    if type(m) == nn.Linear :\n",
    "        nn.init.constant_(m.weight, 42)\n",
    "        \n",
    "net[0].apply(xavier)\n",
    "net[2].apply(init_42)\n",
    "print(net[0].weight.data[0])\n",
    "print(net[2].weight.data)"
   ],
   "metadata": {
    "collapsed": false,
    "ExecuteTime": {
     "end_time": "2024-04-22T05:18:52.067040Z",
     "start_time": "2024-04-22T05:18:52.052971Z"
    }
   },
   "id": "688b6a9f1129deca"
  },
  {
   "cell_type": "markdown",
   "source": [
    "# 自定义初始化"
   ],
   "metadata": {
    "collapsed": false
   },
   "id": "d80ded38c5b12765"
  },
  {
   "cell_type": "code",
   "execution_count": 30,
   "outputs": [
    {
     "name": "stdout",
     "output_type": "stream",
     "text": [
      "Init weight torch.Size([8, 4])\n",
      "Init weight torch.Size([1, 8])\n"
     ]
    },
    {
     "data": {
      "text/plain": "tensor([[ 7.9314, -6.1025, -0.0000, -7.2223],\n        [ 0.0000, -0.0000,  0.0000,  0.0000]], grad_fn=<SliceBackward0>)"
     },
     "execution_count": 30,
     "metadata": {},
     "output_type": "execute_result"
    }
   ],
   "source": [
    "def my_init(m) : \n",
    "    if type(m) == nn.Linear:\n",
    "        print(\"Init\",\n",
    "              *[(name, param.shape) for name, param in m.named_parameters()][0])\n",
    "        nn.init.uniform_(m.weight, -10, 10)\n",
    "        m.weight.data *= m.weight.data.abs() >= 5   # 只保留绝对值大于5的数，其他置0\n",
    "\n",
    "net.apply(my_init)\n",
    "net[0].weight[:2]"
   ],
   "metadata": {
    "collapsed": false,
    "ExecuteTime": {
     "end_time": "2024-04-22T05:28:07.767488Z",
     "start_time": "2024-04-22T05:28:07.758670Z"
    }
   },
   "id": "d76fc0c60a385457"
  },
  {
   "cell_type": "code",
   "execution_count": 31,
   "outputs": [
    {
     "data": {
      "text/plain": "tensor([42.0000, -5.1025,  1.0000, -6.2223])"
     },
     "execution_count": 31,
     "metadata": {},
     "output_type": "execute_result"
    }
   ],
   "source": [
    "# 更加简单直接的方法\n",
    "net[0].weight.data[:] += 1\n",
    "net[0].weight.data[0, 0] = 42\n",
    "net[0].weight.data[0]"
   ],
   "metadata": {
    "collapsed": false,
    "ExecuteTime": {
     "end_time": "2024-04-22T05:31:50.054455Z",
     "start_time": "2024-04-22T05:31:50.046727Z"
    }
   },
   "id": "fede45a39bd8b307"
  },
  {
   "cell_type": "markdown",
   "source": [
    "# 参数绑定"
   ],
   "metadata": {
    "collapsed": false
   },
   "id": "dd297f984118258"
  },
  {
   "cell_type": "code",
   "execution_count": 33,
   "outputs": [
    {
     "name": "stdout",
     "output_type": "stream",
     "text": [
      "tensor([True, True, True, True, True, True, True, True])\n",
      "tensor([True, True, True, True, True, True, True, True])\n"
     ]
    }
   ],
   "source": [
    "# 比如 ： 有些层想要共享权重\n",
    "shared = nn.Linear(8, 8)\n",
    "# 第2层和第4层是共享参数的线性层\n",
    "net = nn.Sequential(nn.Linear(4, 8), nn.ReLU(), shared, nn.ReLU(), shared, nn.ReLU(), nn.Linear(8, 1))\n",
    "net(X)\n",
    "print(net[2].weight.data[0] == net[4].weight.data[0])\n",
    "net[2].weight.data[0, 0] = 100\n",
    "print(net[2].weight.data[0] == net[4].weight.data[0])"
   ],
   "metadata": {
    "collapsed": false,
    "ExecuteTime": {
     "end_time": "2024-04-22T05:38:12.548204Z",
     "start_time": "2024-04-22T05:38:12.532352Z"
    }
   },
   "id": "804b441b84794b51"
  },
  {
   "cell_type": "markdown",
   "source": [
    "# 自定义层\n",
    "之前是讲如何自定义一个神经网络，接下来是如何构造一个没有任何参数的自定义层"
   ],
   "metadata": {
    "collapsed": false
   },
   "id": "18ef8c56c802442f"
  },
  {
   "cell_type": "code",
   "execution_count": 1,
   "outputs": [
    {
     "data": {
      "text/plain": "tensor([-2., -1.,  0.,  1.,  2.])"
     },
     "execution_count": 1,
     "metadata": {},
     "output_type": "execute_result"
    }
   ],
   "source": [
    "import torch\n",
    "import torch.nn.functional as F\n",
    "from torch import nn\n",
    "class CenteredLayer(nn.Module) : \n",
    "    def __init__(self):\n",
    "        super().__init__()\n",
    "    def forward(self, X):\n",
    "        return X - X.mean()\n",
    "\n",
    "layer = CenteredLayer()\n",
    "layer(torch.FloatTensor([1, 2, 3, 4, 5]))"
   ],
   "metadata": {
    "collapsed": false,
    "ExecuteTime": {
     "end_time": "2024-04-23T06:03:51.695188Z",
     "start_time": "2024-04-23T06:03:50.814709Z"
    }
   },
   "id": "b78ca575bbcd3705"
  },
  {
   "cell_type": "code",
   "execution_count": 2,
   "outputs": [
    {
     "data": {
      "text/plain": "(torch.Size([4, 128]), tensor(6.6357e-09, grad_fn=<MeanBackward0>))"
     },
     "execution_count": 2,
     "metadata": {},
     "output_type": "execute_result"
    }
   ],
   "source": [
    "net = nn.Sequential(nn.Linear(8, 128), CenteredLayer())\n",
    "\n",
    "Y = net(torch.rand(4, 8))\n",
    "Y.shape, Y.mean()"
   ],
   "metadata": {
    "collapsed": false,
    "ExecuteTime": {
     "end_time": "2024-04-23T06:04:00.920164Z",
     "start_time": "2024-04-23T06:04:00.900886Z"
    }
   },
   "id": "49cfa225883fb1c6"
  },
  {
   "cell_type": "code",
   "execution_count": 3,
   "outputs": [
    {
     "data": {
      "text/plain": "Parameter containing:\ntensor([[-0.1291, -0.3252, -0.5894],\n        [ 0.1511,  0.1947,  0.0958],\n        [ 0.5759, -1.4857,  0.1512],\n        [ 1.7532,  0.2908,  2.3265],\n        [ 0.3193,  1.3574, -1.2215]], requires_grad=True)"
     },
     "execution_count": 3,
     "metadata": {},
     "output_type": "execute_result"
    }
   ],
   "source": [
    "# 带参数的图层，通过parameter将参数包起来\n",
    "class MyLinear(nn.Module) : \n",
    "    def __init__(self, in_units, units):\n",
    "        super().__init__()\n",
    "        self.weight = nn.Parameter(torch.randn(in_units, units))\n",
    "        self.bias = nn.Parameter(torch.randn(units,))\n",
    "        # randn, 按正态分布生成随机数\n",
    "        \n",
    "    def forward(self, X):\n",
    "        linear = torch.matmul(X, self.weight.data) + self.bias.data\n",
    "        return F.relu(linear)\n",
    "dense = MyLinear(5, 3)\n",
    "dense.weight"
   ],
   "metadata": {
    "collapsed": false,
    "ExecuteTime": {
     "end_time": "2024-04-23T06:04:11.056756Z",
     "start_time": "2024-04-23T06:04:11.034072Z"
    }
   },
   "id": "3696321e0fa7e42b"
  },
  {
   "cell_type": "code",
   "execution_count": 4,
   "outputs": [
    {
     "data": {
      "text/plain": "tensor([[2.4808, 0.0000, 0.0000],\n        [2.6881, 0.0253, 0.0000]])"
     },
     "execution_count": 4,
     "metadata": {},
     "output_type": "execute_result"
    }
   ],
   "source": [
    "# 使用自定义层直接执行正向传播计算\n",
    "dense(torch.rand(2, 5))"
   ],
   "metadata": {
    "collapsed": false,
    "ExecuteTime": {
     "end_time": "2024-04-23T06:04:19.045387Z",
     "start_time": "2024-04-23T06:04:19.021871Z"
    }
   },
   "id": "4db316232775480"
  },
  {
   "cell_type": "code",
   "execution_count": 5,
   "outputs": [
    {
     "data": {
      "text/plain": "tensor([[0.0000],\n        [1.8241]])"
     },
     "execution_count": 5,
     "metadata": {},
     "output_type": "execute_result"
    }
   ],
   "source": [
    "# 使用自定义层构建模型\n",
    "net = nn.Sequential(MyLinear(64, 8), MyLinear(8, 1))\n",
    "net(torch.rand(2, 64))"
   ],
   "metadata": {
    "collapsed": false,
    "ExecuteTime": {
     "end_time": "2024-04-23T06:04:26.765338Z",
     "start_time": "2024-04-23T06:04:26.746159Z"
    }
   },
   "id": "2f6aa27bf1e8af41"
  }
 ],
 "metadata": {
  "kernelspec": {
   "display_name": "Python 3",
   "language": "python",
   "name": "python3"
  },
  "language_info": {
   "codemirror_mode": {
    "name": "ipython",
    "version": 2
   },
   "file_extension": ".py",
   "mimetype": "text/x-python",
   "name": "python",
   "nbconvert_exporter": "python",
   "pygments_lexer": "ipython2",
   "version": "2.7.6"
  }
 },
 "nbformat": 4,
 "nbformat_minor": 5
}
