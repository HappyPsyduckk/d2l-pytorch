{
 "cells": [
  {
   "cell_type": "markdown",
   "source": [
    "# 模型容量\n",
    "> 拟合各种函数的能力\n",
    "> 低容量的模型难以拟合训练数据，高容量的模型可以记住所有的训练数据\n",
    "> 可以用训练误差和泛化误差之间的差距来衡量过拟合和欠拟合\n",
    "> 模型容量需要匹配数据复杂度，否则可能导致欠拟合和过拟合\n",
    "<img alt=\"image.png\" height=\"500\" src=\"/Users/loneker/Desktop/d2l/pic/iShot_2024-04-15_09.53.19.png\" width=\"700\"/>"
   ],
   "metadata": {
    "collapsed": false
   },
   "id": "84648a7d0b86649a"
  },
  {
   "cell_type": "code",
   "execution_count": 1,
   "id": "initial_id",
   "metadata": {
    "collapsed": true,
    "ExecuteTime": {
     "end_time": "2024-04-15T04:32:46.972025Z",
     "start_time": "2024-04-15T04:32:45.166036Z"
    }
   },
   "outputs": [],
   "source": [
    "import math\n",
    "import numpy as np\n",
    "import torch\n",
    "from torch import nn\n",
    "from d2l import torch as d2l"
   ]
  },
  {
   "cell_type": "code",
   "execution_count": null,
   "outputs": [],
   "source": [],
   "metadata": {
    "collapsed": false
   },
   "id": "8f732f9617b70f28"
  },
  {
   "cell_type": "markdown",
   "source": [
    "## 使用三阶多项式来生成训练和测试数据的标签\n",
    "<img alt=\"image.png\" height=\"100\" src=\"/Users/loneker/Desktop/d2l/pic/iShot_2024-04-15_12.34.13.png\" width=\"700\"/>"
   ],
   "metadata": {
    "collapsed": false
   },
   "id": "d6c26826a48794b5"
  },
  {
   "cell_type": "code",
   "execution_count": 11,
   "outputs": [],
   "source": [
    "max_degree = 20     # 多项式的最大阶数\n",
    "n_train, n_test = 100, 100  # 训练样本和测试样本都是100个\n",
    "true_w = np.zeros(max_degree)   # 分配大量的空间\n",
    "true_w[0 : 4] = np.array([5, 1.2, -3.4, 5.6])   # 后面都是噪音项\n",
    "\n",
    "features = np.random.normal(size = (n_train + n_test, 1))\n",
    "np.random.shuffle(features)\n",
    "poly_features = np.power(features, np.arange(max_degree).reshape(1, -1))\n",
    "for i in range(max_degree):\n",
    "    poly_features[: i] /= math.gamma(i + 1)\n",
    "labels = np.dot(poly_features, true_w)\n",
    "labels += np.random.normal(scale=0.1, size = labels.shape)"
   ],
   "metadata": {
    "collapsed": false,
    "ExecuteTime": {
     "end_time": "2024-04-15T04:59:20.599921Z",
     "start_time": "2024-04-15T04:59:20.581815Z"
    }
   },
   "id": "1c879a2c3f936bb6"
  },
  {
   "cell_type": "code",
   "execution_count": 12,
   "outputs": [
    {
     "data": {
      "text/plain": "(tensor([[0.2655],\n         [1.4631]]),\n tensor([[0., 0., 0., 0., 0., 0., 0., 0., 0., 0., 0., 0., 0., 0., 0., 0., 0., 0., 0., 0.],\n         [0., 0., 0., 0., 0., 0., 0., 0., 0., 0., 0., 0., 0., 0., 0., 0., 0., 0., 0., 0.]]),\n tensor([0.0649, 0.0597]))"
     },
     "execution_count": 12,
     "metadata": {},
     "output_type": "execute_result"
    }
   ],
   "source": [
    "true_w, features, poly_features, labels = [torch.tensor(x, dtype=torch.float32) for x in [true_w, features, poly_features, labels]]\n",
    "features[:2], poly_features[:2, :], labels[:2]"
   ],
   "metadata": {
    "collapsed": false,
    "ExecuteTime": {
     "end_time": "2024-04-16T07:14:45.731175Z",
     "start_time": "2024-04-16T07:14:45.689562Z"
    }
   },
   "id": "995ad9f5afb1ae85"
  }
 ],
 "metadata": {
  "kernelspec": {
   "display_name": "Python 3",
   "language": "python",
   "name": "python3"
  },
  "language_info": {
   "codemirror_mode": {
    "name": "ipython",
    "version": 2
   },
   "file_extension": ".py",
   "mimetype": "text/x-python",
   "name": "python",
   "nbconvert_exporter": "python",
   "pygments_lexer": "ipython2",
   "version": "2.7.6"
  }
 },
 "nbformat": 4,
 "nbformat_minor": 5
}
