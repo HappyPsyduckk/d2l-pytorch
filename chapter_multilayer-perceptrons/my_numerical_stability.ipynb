{
 "cells": [
  {
   "cell_type": "markdown",
   "source": [
    "# 数值稳定性\n",
    "梯度爆炸  &&  梯度消失\n",
    "## 梯度爆炸的问题\n",
    "> 值超出值域(对于16位浮点数尤为严重(数值区间6e-5 -- 6e4))\n",
    "> 对学习率敏感：\n",
    "> 1. 如果学习率太大 --> 大参数值 --> 更大的梯度\n",
    "> 2. 如果学习率太小 --> 训练无法展开\n",
    "> 3. 需要在训练过程中不端调整学习率\n",
    "## 梯度消失的问题\n",
    "> 梯度值变成0(对16位浮点数尤为严重)\n",
    "> 训练没有进展，不管怎么选择学习率\n",
    "> 对底部层尤为严重(仅顶部层训练的较好，无法让神经网络更深), (梯度是从顶部向下传)\n",
    "## 总结\n",
    "> 当数值过大或者过小时会导致数值问题\n",
    "> 常发生在深度模型中，因为其会对n个数累乘\n",
    "> 既要避免梯度过大也要避免梯度过小"
   ],
   "metadata": {
    "collapsed": false
   },
   "id": "dae7d800b3c52a2f"
  },
  {
   "cell_type": "markdown",
   "source": [
    "# 让训练更加稳定\n",
    "> 目标：让梯度值在合理的范围内，例如[1e-6, 1e3]\n",
    "> 1. 将乘法变成加法(ResNet, LSTM)\n",
    "> 2. 归一化：梯度归一化、梯度裁剪\n",
    "> 3. 合理的权重初始和激活函数"
   ],
   "metadata": {
    "collapsed": false
   },
   "id": "9697b2faa34b7186"
  },
  {
   "cell_type": "markdown",
   "source": [
    "想得到的性质：让每一层的方差是一个常数\n",
    "1. 将每层的输出和梯度都看做随机变量\n",
    "2. 让他们的均值和方差都保持一致\n",
    "\n",
    "如何得到这一性质：\n",
    "# 权重初始化\n",
    "> 1. 在合理值区间里随机初始参数\n",
    "> 2. 训练开始的时候更容易有数值不稳定(远离最优解的地方损失函数表面很复杂、最优解附近表面会比较平)\n",
    "> 3. 使用N(0, 0.01)来初始可能对小网络没问题，但不能保证深度神经网络"
   ],
   "metadata": {
    "collapsed": false
   },
   "id": "69d82ee9201196c7"
  },
  {
   "cell_type": "code",
   "execution_count": null,
   "id": "initial_id",
   "metadata": {
    "collapsed": true
   },
   "outputs": [],
   "source": [
    "  "
   ]
  }
 ],
 "metadata": {
  "kernelspec": {
   "display_name": "Python 3",
   "language": "python",
   "name": "python3"
  },
  "language_info": {
   "codemirror_mode": {
    "name": "ipython",
    "version": 2
   },
   "file_extension": ".py",
   "mimetype": "text/x-python",
   "name": "python",
   "nbconvert_exporter": "python",
   "pygments_lexer": "ipython2",
   "version": "2.7.6"
  }
 },
 "nbformat": 4,
 "nbformat_minor": 5
}
