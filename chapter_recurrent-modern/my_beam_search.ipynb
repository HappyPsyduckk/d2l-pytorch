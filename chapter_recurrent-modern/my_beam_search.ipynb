{
 "cells": [
  {
   "cell_type": "markdown",
   "source": [
    "# 束搜索\n",
    "\n",
    "## 贪心搜索\n",
    "在seq2seq中我们使用了贪心搜索来预测序列，将当前时刻预测概率最大的词输出\n",
    "但贪心很可能不是最优的\n",
    "\n",
    "如何找到最优？\n",
    "1. 穷举搜索，计算上不可行\n",
    "2. 束搜索\n",
    "\n",
    "## 束搜索\n",
    "1. 保存最好的k个候选\n",
    "2. 在每个时刻，对每一个候选新加一项(n 种可能)，在kn个选项中选出最好的k个\n",
    "3. 时间复杂度 O(knT)\n",
    "4. 每个候选的最终分数：$$ \\frac{1}{L^\\alpha} \\log P(y_1, \\ldots, y_{L}\\mid \\mathbf{c}) = \\frac{1}{L^\\alpha} \\sum_{t'=1}^L \\log P(y_{t'} \\mid y_1, \\ldots, y_{t'-1}, \\mathbf{c}),$$"
   ],
   "metadata": {
    "collapsed": false
   },
   "id": "6a634393e2eba11d"
  },
  {
   "cell_type": "code",
   "execution_count": null,
   "id": "initial_id",
   "metadata": {
    "collapsed": true
   },
   "outputs": [],
   "source": []
  }
 ],
 "metadata": {
  "kernelspec": {
   "display_name": "Python 3",
   "language": "python",
   "name": "python3"
  },
  "language_info": {
   "codemirror_mode": {
    "name": "ipython",
    "version": 2
   },
   "file_extension": ".py",
   "mimetype": "text/x-python",
   "name": "python",
   "nbconvert_exporter": "python",
   "pygments_lexer": "ipython2",
   "version": "2.7.6"
  }
 },
 "nbformat": 4,
 "nbformat_minor": 5
}
