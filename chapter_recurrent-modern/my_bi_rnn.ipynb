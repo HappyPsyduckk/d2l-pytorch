{
 "cells": [
  {
   "cell_type": "markdown",
   "source": [
    "# 双向循环神经网络\n",
    "填空：取决于过去和未来的上下文，可以填很不一样的词，目前RNN只看过去，但填空时，也可以看未来\n",
    "双向循环神经网络不适合做推理\n",
    "<img alt=\"image.png\" height=\"600\" src=\"/Users/loneker/Desktop/d2l/pic/iShot_2024-05-15_14.05.34.png\" width=\"1000\"/>\n",
    "\n",
    "## 总结\n",
    "1. 双向循环神经网络通过反向更新的隐藏层来利用方向时间信息\n",
    "2. 通常用来对序列抽取特征、填空，而不是预测未来"
   ],
   "metadata": {
    "collapsed": false
   },
   "id": "70e688d8c0858702"
  },
  {
   "cell_type": "code",
   "execution_count": null,
   "id": "initial_id",
   "metadata": {
    "collapsed": true
   },
   "outputs": [],
   "source": [
    "import torch\n",
    "from torch import nn\n",
    "from d2l import torch as d2l\n",
    "\n",
    "# 加载数据\n",
    "batch_size, num_steps, device = 32, 35, d2l.try_gpu()\n",
    "train_iter, vocab = d2l.load_data_time_machine(batch_size, num_steps)\n",
    "# 通过设置“bidirective=True”来定义双向LSTM模型\n",
    "vocab_size, num_hiddens, num_layers = len(vocab), 256, 2\n",
    "num_inputs = vocab_size\n",
    "lstm_layer = nn.LSTM(num_inputs, num_hiddens, num_layers, bidirectional=True)\n",
    "model = d2l.RNNModel(lstm_layer, len(vocab))\n",
    "model = model.to(device)\n",
    "# 训练模型， 预测是不靠谱的，训练有未来的信息，但是预测没有未来信息\n",
    "num_epochs, lr = 500, 1\n",
    "d2l.train_ch8(model, train_iter, vocab, lr, num_epochs, device)"
   ]
  }
 ],
 "metadata": {
  "kernelspec": {
   "display_name": "Python 3",
   "language": "python",
   "name": "python3"
  },
  "language_info": {
   "codemirror_mode": {
    "name": "ipython",
    "version": 2
   },
   "file_extension": ".py",
   "mimetype": "text/x-python",
   "name": "python",
   "nbconvert_exporter": "python",
   "pygments_lexer": "ipython2",
   "version": "2.7.6"
  }
 },
 "nbformat": 4,
 "nbformat_minor": 5
}
