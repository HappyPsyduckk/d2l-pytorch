{
 "cells": [
  {
   "cell_type": "markdown",
   "source": [
    "# 编码器-解码器\n",
    "编码器：将文本表示成向量\n",
    "解码器：将向量表示成输出\n",
    "\n",
    "## 编码器-解码器架构\n",
    "一个模型被分为两块：\n",
    "    1. 编码器处理输入，将Input变成中间状态的state\n",
    "    2. 解码器生成输出\n",
    "<img alt=\"image.png\" height=\"600\" src=\"/Users/loneker/Desktop/d2l/pic/iShot_2024-05-15_15.05.10.png\" width=\"700\"/>\n",
    "\n",
    "## 总结\n",
    "使用编码器-解码器架构的模型，编码器负责表示输入，解码器负责输出"
   ],
   "metadata": {
    "collapsed": false
   },
   "id": "e8d09e3394309148"
  },
  {
   "cell_type": "code",
   "execution_count": 1,
   "id": "initial_id",
   "metadata": {
    "collapsed": true,
    "ExecuteTime": {
     "end_time": "2024-05-15T07:10:03.333747Z",
     "start_time": "2024-05-15T07:10:02.768063Z"
    }
   },
   "outputs": [],
   "source": [
    "from torch import nn\n",
    "\n",
    "class Encoder(nn.Module):\n",
    "    \"\"\"编码器-解码器架构的基本编码器接口\"\"\"\n",
    "    def __init__(self, **kwargs):\n",
    "        super(Encoder, self).__init__(**kwargs)\n",
    "\n",
    "    def forward(self, X, *args):        # 给定X输出结果\n",
    "        raise NotImplementedError"
   ]
  },
  {
   "cell_type": "markdown",
   "source": [
    "## [**解码器**]\n",
    "\n",
    "在下面的解码器接口中，我们新增一个`init_state`函数，\n",
    "用于将编码器的输出（`enc_outputs`）转换为编码后的状态。\n",
    "注意，此步骤可能需要额外的输入，例如：输入序列的有效长度，\n",
    "这在 :numref:`subsec_mt_data_loading`中进行了解释。\n",
    "为了逐个地生成长度可变的词元序列，\n",
    "解码器在每个时间步都会将输入\n",
    "（例如：在前一时间步生成的词元）和编码后的状态\n",
    "映射成当前时间步的输出词元。\n"
   ],
   "metadata": {
    "collapsed": false
   },
   "id": "99ad1df5fd95c6a6"
  },
  {
   "cell_type": "code",
   "execution_count": 2,
   "outputs": [],
   "source": [
    "#@save\n",
    "class Decoder(nn.Module):\n",
    "    \"\"\"编码器-解码器架构的基本解码器接口\"\"\"\n",
    "    def __init__(self, **kwargs):\n",
    "        super(Decoder, self).__init__(**kwargs)\n",
    "\n",
    "    def init_state(self, enc_outputs, *args):       # 编码器的输出，不同的模型代码会不一样\n",
    "        raise NotImplementedError   \n",
    "\n",
    "    def forward(self, X, state):                    # X：拿到额外的输入， state：从encoder那里拿到，并且可以一直更新\n",
    "        raise NotImplementedError"
   ],
   "metadata": {
    "collapsed": false,
    "ExecuteTime": {
     "end_time": "2024-05-15T07:14:13.972663Z",
     "start_time": "2024-05-15T07:14:13.947792Z"
    }
   },
   "id": "d8ec6e79b7adb1d"
  },
  {
   "cell_type": "code",
   "execution_count": 4,
   "outputs": [],
   "source": [
    "# 合并编码器和解码器\n",
    "class EncoderDecoder(nn.Module):\n",
    "    \"\"\"编码器-解码器架构的基类\"\"\"\n",
    "    def __init__(self, encoder, decoder, **kwargs):\n",
    "        super(EncoderDecoder, self).__init__(**kwargs)\n",
    "        self.encoder = encoder\n",
    "        self.decoder = decoder\n",
    "\n",
    "    def forward(self, enc_X, dec_X, *args):\n",
    "        enc_outputs = self.encoder(enc_X, *args)\n",
    "        dec_state = self.decoder.init_state(enc_outputs, *args)     # 拿到编码器的输出\n",
    "        return self.decoder(dec_X, dec_state)                       # 将编码器的输出和解码器的输入一起当作输入"
   ],
   "metadata": {
    "collapsed": false,
    "ExecuteTime": {
     "end_time": "2024-05-15T07:15:08.651672Z",
     "start_time": "2024-05-15T07:15:08.626567Z"
    }
   },
   "id": "6687fd15705d4272"
  }
 ],
 "metadata": {
  "kernelspec": {
   "display_name": "Python 3",
   "language": "python",
   "name": "python3"
  },
  "language_info": {
   "codemirror_mode": {
    "name": "ipython",
    "version": 2
   },
   "file_extension": ".py",
   "mimetype": "text/x-python",
   "name": "python",
   "nbconvert_exporter": "python",
   "pygments_lexer": "ipython2",
   "version": "2.7.6"
  }
 },
 "nbformat": 4,
 "nbformat_minor": 5
}
